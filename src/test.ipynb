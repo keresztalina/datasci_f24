{
 "cells": [
  {
   "cell_type": "code",
   "execution_count": 1,
   "metadata": {
    "metadata": {}
   },
   "outputs": [],
   "source": [
    "# import packages\n",
    "import pandas as pd\n",
    "import numpy as np\n",
    "import matplotlib.pyplot as plt\n",
    "import seaborn as sns\n",
    "import scipy\n",
    "\n",
    "from sklearn.metrics import mean_squared_error, r2_score\n",
    "from sklearn.linear_model import LinearRegression, Lasso, Ridge\n",
    "from sklearn.preprocessing import StandardScaler, PolynomialFeatures, MinMaxScaler\n",
    "from sklearn.compose import ColumnTransformer\n",
    "from sklearn.model_selection import train_test_split, GridSearchCV, RandomizedSearchCV\n",
    "from sklearn.tree import DecisionTreeRegressor\n",
    "from sklearn import tree as tr\n",
    "from sklearn.ensemble import RandomForestRegressor\n",
    "from sklearn.inspection import permutation_importance\n",
    "from xgboost import XGBRegressor"
   ]
  },
  {
   "cell_type": "code",
   "execution_count": 3,
   "metadata": {
    "metadata": {}
   },
   "outputs": [
    {
     "name": "stdout",
     "output_type": "stream",
     "text": [
      "Loaded ../data/cesd_total.csv into DataFrame: cesd_total\n",
      "Loaded ../data/gad_total.csv into DataFrame: gad_total\n",
      "Loaded ../data/inq_perceivedburden.csv into DataFrame: inq_perceivedburden\n",
      "Loaded ../data/inq_thwartedbelong.csv into DataFrame: inq_thwartedbelong\n",
      "Loaded ../data/upps_total.csv into DataFrame: upps_total\n"
     ]
    }
   ],
   "source": [
    "def load_csvs_to_dfs(filenames):\n",
    "    dataframes = {}\n",
    "    for name in filenames:\n",
    "        file_path = f'../data/{name}.csv'\n",
    "        try:\n",
    "            dataframes[name] = pd.read_csv(file_path)\n",
    "            print(f'Loaded {file_path} into DataFrame: {name}')\n",
    "        except FileNotFoundError:\n",
    "            print(f'File {file_path} not found.')\n",
    "    return dataframes\n",
    "\n",
    "# Example usage\n",
    "csvs = [\n",
    "        'cesd_total', \n",
    "        'gad_total',\n",
    "        'inq_perceivedburden',\n",
    "        'inq_thwartedbelong',\n",
    "        'upps_total']\n",
    "dataframes = load_csvs_to_dfs(csvs)"
   ]
  },
  {
   "cell_type": "code",
   "execution_count": null,
   "metadata": {},
   "outputs": [],
   "source": [
    "def plot_last_column(df: pd.DataFrame):\n",
    "    # Extract the last column\n",
    "    last_column_name = df.columns[-1]\n",
    "    last_column_data = df[last_column_name]\n",
    "    \n",
    "    # Create the plot\n",
    "    plt.figure(figsize=(10, 6))\n",
    "    plt.hist(data[last_column_name], bins=50)\n",
    "    plt.title(f'Histogram of {last_column_name}')\n",
    "    plt.ylabel(last_column_name)\n",
    "    plt.grid(True)\n",
    "    plt.show()\n",
    "\n",
    "# Call the function to plot the last column\n",
    "plot_last_column(data)"
   ]
  },
  {
   "cell_type": "code",
   "execution_count": null,
   "metadata": {},
   "outputs": [],
   "source": []
  }
 ],
 "metadata": {
  "kernelspec": {
   "display_name": "Python 3",
   "language": "python",
   "name": "python3"
  },
  "language_info": {
   "codemirror_mode": {
    "name": "ipython",
    "version": 3
   },
   "file_extension": ".py",
   "mimetype": "text/x-python",
   "name": "python",
   "nbconvert_exporter": "python",
   "pygments_lexer": "ipython3",
   "version": "3.12.3"
  }
 },
 "nbformat": 4,
 "nbformat_minor": 2
}
