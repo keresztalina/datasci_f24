{
 "cells": [
  {
   "cell_type": "code",
   "execution_count": 2,
   "metadata": {
    "metadata": {}
   },
   "outputs": [],
   "source": [
    "# import packages\n",
    "import pandas as pd\n",
    "import numpy as np\n",
    "import matplotlib.pyplot as plt\n",
    "import seaborn as sns\n",
    "import scipy\n",
    "\n",
    "from sklearn.metrics import mean_squared_error, r2_score\n",
    "from sklearn.linear_model import LinearRegression, Lasso, Ridge\n",
    "from sklearn.preprocessing import StandardScaler, PolynomialFeatures, MinMaxScaler\n",
    "from sklearn.compose import ColumnTransformer\n",
    "from sklearn.model_selection import train_test_split, GridSearchCV, RandomizedSearchCV\n",
    "from sklearn.tree import DecisionTreeRegressor\n",
    "from sklearn import tree as tr\n",
    "from sklearn.ensemble import RandomForestRegressor\n",
    "from sklearn.inspection import permutation_importance\n",
    "from xgboost import XGBRegressor"
   ]
  },
  {
   "cell_type": "code",
   "execution_count": 3,
   "metadata": {
    "metadata": {}
   },
   "outputs": [
    {
     "name": "stdout",
     "output_type": "stream",
     "text": [
      "Loaded ../data/cesd_total.csv into DataFrame: cesd_total\n",
      "Loaded ../data/gad_total.csv into DataFrame: gad_total\n",
      "Loaded ../data/inq_perceivedburden.csv into DataFrame: inq_perceivedburden\n",
      "Loaded ../data/inq_thwartedbelong.csv into DataFrame: inq_thwartedbelong\n",
      "Loaded ../data/upps_total.csv into DataFrame: upps_total\n"
     ]
    }
   ],
   "source": [
    "def load_csvs_to_dfs(filenames):\n",
    "    dataframes = []\n",
    "    for name in filenames:\n",
    "        file_path = f'../data/{name}.csv'\n",
    "        try:\n",
    "            df = pd.read_csv(file_path)\n",
    "            dataframes.append(df)\n",
    "            print(f'Loaded {file_path} into DataFrame: {name}')\n",
    "        except FileNotFoundError:\n",
    "            print(f'File {file_path} not found.')\n",
    "    return dataframes\n",
    "\n",
    "csvs = [\n",
    "        'cesd_total', \n",
    "        'gad_total',\n",
    "        'inq_perceivedburden',\n",
    "        'inq_thwartedbelong',\n",
    "        'upps_total']\n",
    "dataframes = load_csvs_to_dfs(csvs)"
   ]
  },
  {
   "cell_type": "code",
   "execution_count": 4,
   "metadata": {
    "metadata": {}
   },
   "outputs": [],
   "source": [
    "def plot_outcome(df: pd.DataFrame):\n",
    "    # Extract the last column\n",
    "    last_column_name = df.columns[-1]\n",
    "    \n",
    "    # Create the plot\n",
    "    plt.figure(figsize=(10, 6))\n",
    "    plt.hist(df[last_column_name], bins=50)\n",
    "    plt.title(f'Histogram of {last_column_name}')\n",
    "    plt.ylabel(last_column_name)\n",
    "    plt.grid(True)\n",
    "\n",
    "    plt.savefig(f'../plots/hist_{last_column_name}.png')"
   ]
  },
  {
   "cell_type": "code",
   "execution_count": 5,
   "metadata": {
    "metadata": {}
   },
   "outputs": [],
   "source": [
    "def plot_correlations(df: pd.DataFrame):\n",
    "    last_column_name = df.columns[-1]\n",
    "    sns.clustermap(df.corr(), cmap='viridis')\n",
    "    plt.savefig(f'../plots/corr_{last_column_name}.png')"
   ]
  },
  {
   "cell_type": "code",
   "execution_count": 6,
   "metadata": {
    "metadata": {}
   },
   "outputs": [],
   "source": [
    "def create_splits(df:pd.DataFrame):\n",
    "    X = df.iloc[:,:-1].values\n",
    "    y = df.iloc[:,-1].values\n",
    "\n",
    "    X_train, X_test, y_train, y_test = train_test_split(\n",
    "        X, \n",
    "        y, \n",
    "        test_size=0.15, \n",
    "        random_state=42)\n",
    "\n",
    "    X_train, X_val, y_train, y_val = train_test_split(\n",
    "        X_train, \n",
    "        y_train,\n",
    "        test_size=X_test.shape[0] / X_train.shape[0],  \n",
    "        random_state=42)\n",
    "\n",
    "    return X_train, X_val, X_test, y_train, y_val, y_test"
   ]
  },
  {
   "cell_type": "code",
   "execution_count": 7,
   "metadata": {
    "metadata": {}
   },
   "outputs": [],
   "source": [
    "def identify_variable_types(data):\n",
    "    continuous_vars = []\n",
    "    dummy_vars = []\n",
    "\n",
    "    num_columns = data.shape[1]\n",
    "    \n",
    "    for i in range(num_columns):\n",
    "        unique_values = np.unique(data[:, i])\n",
    "        if len(unique_values) == 2 and np.array_equal(unique_values, [0, 1]):\n",
    "            dummy_vars.append(i)\n",
    "        else:\n",
    "            continuous_vars.append(i)\n",
    "    \n",
    "    return continuous_vars, dummy_vars"
   ]
  },
  {
   "cell_type": "code",
   "execution_count": 8,
   "metadata": {
    "metadata": {}
   },
   "outputs": [],
   "source": [
    "def transform_X(split):\n",
    "\n",
    "    continuous_cols, dummy_cols = identify_variable_types(split)\n",
    "    preprocessor = ColumnTransformer(\n",
    "        transformers=[\n",
    "            ('num', StandardScaler(), continuous_cols),\n",
    "            ('dummy', 'passthrough', dummy_cols)  # Leave dummy variables unchanged or use StandardScaler() if needed\n",
    "        ]\n",
    "    )\n",
    "    split = preprocessor.fit_transform(split)\n",
    "\n",
    "    return split"
   ]
  },
  {
   "cell_type": "code",
   "execution_count": 9,
   "metadata": {
    "metadata": {}
   },
   "outputs": [],
   "source": []
  },
  {
   "cell_type": "code",
   "execution_count": 26,
   "metadata": {
    "metadata": {}
   },
   "outputs": [],
   "source": [
    "@run_on_splits\n",
    "def evaluate(model, X, y, nsplit, model_name, constant_value=None):\n",
    "    ''' Evaluates the performance of a model \n",
    "    Args:\n",
    "        model (sklearn.Estimator): fitted sklearn estimator\n",
    "        X (np.array): predictors\n",
    "        y (np.array): true outcome\n",
    "        nsplit (str): name of the split\n",
    "        model_name (str): string id of the model\n",
    "        constant_value (int or None): relevant if the model predicts a constant\n",
    "    '''\n",
    "    if constant_value is not None:\n",
    "        preds = np.array([constant_value] * y.shape[0])\n",
    "    else:\n",
    "        preds = model.predict(X)\n",
    "    r2 = r2_score(y, preds)\n",
    "    performance = np.sqrt(mean_squared_error(y, preds))\n",
    "    model_performances.append({'model': model_name,\n",
    "                         'split': nsplit,\n",
    "                         'rmse': round(performance, 4),\n",
    "                         'r2': round(r2, 4)})"
   ]
  },
  {
   "cell_type": "code",
   "execution_count": 30,
   "metadata": {
    "metadata": {}
   },
   "outputs": [],
   "source": [
    "def loop_through_dfs(list_of_dfs):\n",
    "\n",
    "    def run_on_splits(func):\n",
    "        def _run_loop(*args, **kwargs):\n",
    "            for x,y,nsplit in zip([X_train, X_val, X_test],\n",
    "                                [y_train, y_val, y_test],\n",
    "                                ['train', 'val', 'test']):\n",
    "                func(*args, X=x, y=y, nsplit=nsplit, **kwargs)\n",
    "        return _run_loop\n",
    "\n",
    "    @run_on_splits\n",
    "    def evaluate(model, X, y, nsplit, model_name, constant_value=None):\n",
    "        ''' Evaluates the performance of a model \n",
    "        Args:\n",
    "            model (sklearn.Estimator): fitted sklearn estimator\n",
    "            X (np.array): predictors\n",
    "            y (np.array): true outcome\n",
    "            nsplit (str): name of the split\n",
    "            model_name (str): string id of the model\n",
    "            constant_value (int or None): relevant if the model predicts a constant\n",
    "        '''\n",
    "        if constant_value is not None:\n",
    "            preds = np.array([constant_value] * y.shape[0])\n",
    "        else:\n",
    "            preds = model.predict(X)\n",
    "        r2 = r2_score(y, preds)\n",
    "        performance = np.sqrt(mean_squared_error(y, preds))\n",
    "        model_performances.append({'model': model_name,\n",
    "                            'split': nsplit,\n",
    "                            'rmse': round(performance, 4),\n",
    "                            'r2': round(r2, 4)})\n",
    "    \n",
    "    for idx, df in enumerate(list_of_dfs):\n",
    "        \n",
    "        # plot outcome variable\n",
    "        #plot_outcome(df)\n",
    "\n",
    "        # plot correlations\n",
    "        #plot_correlations(df)\n",
    "\n",
    "        # create splits\n",
    "        X_train, X_val, X_test, y_train, y_val, y_test = create_splits(df)\n",
    "\n",
    "        # transform X\n",
    "        X_train = transform_X(X_train)\n",
    "        X_val = transform_X(X_val)\n",
    "        X_test = transform_X(X_test)\n",
    "        \n",
    "        model_performances = []\n",
    "\n",
    "        # run null model\n",
    "        evaluate(model=None, model_name='dummy', constant_value=y_train.mean())\n",
    "\n",
    "        # run plain linear regression\n",
    "        reg = LinearRegression().fit(X_train, y_train)\n",
    "        evaluate(model=reg, model_name='linear')\n",
    "\n",
    "        # run ridge and lasso versions\n",
    "        models = {} \n",
    "        models['linear-0.0'] = reg\n",
    "        for alpha in [0.01, 0.1, 0.2, 0.5, 1.0, 20.0, 10.0, 100.0, 1000.0]:\n",
    "            for est in [Lasso, Ridge]:\n",
    "                if est == Lasso:\n",
    "                    id = 'lasso'\n",
    "                else:\n",
    "                    id = 'ridge'\n",
    "                reg = est(alpha=alpha).fit(X_train, y_train)\n",
    "                models[f'{id}-{alpha}'] = reg\n",
    "                evaluate(model=reg, model_name=f'{id}-alpha-{alpha}')\n",
    "\n",
    "        print(model_performances)\n"
   ]
  },
  {
   "cell_type": "code",
   "execution_count": 31,
   "metadata": {
    "metadata": {}
   },
   "outputs": [
    {
     "name": "stdout",
     "output_type": "stream",
     "text": [
      "[{'model': 'dummy', 'split': 'train', 'rmse': 11.2661, 'r2': 0.0}, {'model': 'dummy', 'split': 'val', 'rmse': 12.044, 'r2': -0.0241}, {'model': 'dummy', 'split': 'test', 'rmse': 12.5069, 'r2': -0.0051}, {'model': 'linear', 'split': 'train', 'rmse': 6.9475, 'r2': 0.6197}, {'model': 'linear', 'split': 'val', 'rmse': 55978618892232.44, 'r2': -2.2122366196762484e+25}, {'model': 'linear', 'split': 'test', 'rmse': 45297602434711.734, 'r2': -1.3183983522923074e+25}, {'model': 'lasso-alpha-0.01', 'split': 'train', 'rmse': 7.1045, 'r2': 0.6023}, {'model': 'lasso-alpha-0.01', 'split': 'val', 'rmse': 12.3959, 'r2': -0.0848}, {'model': 'lasso-alpha-0.01', 'split': 'test', 'rmse': 11.7864, 'r2': 0.1074}, {'model': 'ridge-alpha-0.01', 'split': 'train', 'rmse': 6.9584, 'r2': 0.6185}, {'model': 'ridge-alpha-0.01', 'split': 'val', 'rmse': 57.0004, 'r2': -21.9374}, {'model': 'ridge-alpha-0.01', 'split': 'test', 'rmse': 44.7042, 'r2': -11.8408}, {'model': 'lasso-alpha-0.1', 'split': 'train', 'rmse': 7.5351, 'r2': 0.5527}, {'model': 'lasso-alpha-0.1', 'split': 'val', 'rmse': 11.616, 'r2': 0.0474}, {'model': 'lasso-alpha-0.1', 'split': 'test', 'rmse': 10.4292, 'r2': 0.3011}, {'model': 'ridge-alpha-0.1', 'split': 'train', 'rmse': 6.9678, 'r2': 0.6175}, {'model': 'ridge-alpha-0.1', 'split': 'val', 'rmse': 42.8675, 'r2': -11.9731}, {'model': 'ridge-alpha-0.1', 'split': 'test', 'rmse': 32.13, 'r2': -5.6331}, {'model': 'lasso-alpha-0.2', 'split': 'train', 'rmse': 7.765, 'r2': 0.525}, {'model': 'lasso-alpha-0.2', 'split': 'val', 'rmse': 11.4901, 'r2': 0.068}, {'model': 'lasso-alpha-0.2', 'split': 'test', 'rmse': 10.2731, 'r2': 0.3219}, {'model': 'ridge-alpha-0.2', 'split': 'train', 'rmse': 6.9799, 'r2': 0.6162}, {'model': 'ridge-alpha-0.2', 'split': 'val', 'rmse': 34.0786, 'r2': -7.1988}, {'model': 'ridge-alpha-0.2', 'split': 'test', 'rmse': 25.9619, 'r2': -3.3308}, {'model': 'lasso-alpha-0.5', 'split': 'train', 'rmse': 8.0865, 'r2': 0.4848}, {'model': 'lasso-alpha-0.5', 'split': 'val', 'rmse': 11.0031, 'r2': 0.1453}, {'model': 'lasso-alpha-0.5', 'split': 'test', 'rmse': 10.1461, 'r2': 0.3386}, {'model': 'ridge-alpha-0.5', 'split': 'train', 'rmse': 7.0072, 'r2': 0.6132}, {'model': 'ridge-alpha-0.5', 'split': 'val', 'rmse': 23.3348, 'r2': -2.8441}, {'model': 'ridge-alpha-0.5', 'split': 'test', 'rmse': 18.3656, 'r2': -1.1672}, {'model': 'lasso-alpha-1.0', 'split': 'train', 'rmse': 8.2878, 'r2': 0.4588}, {'model': 'lasso-alpha-1.0', 'split': 'val', 'rmse': 11.0569, 'r2': 0.1369}, {'model': 'lasso-alpha-1.0', 'split': 'test', 'rmse': 10.1979, 'r2': 0.3318}, {'model': 'ridge-alpha-1.0', 'split': 'train', 'rmse': 7.0342, 'r2': 0.6102}, {'model': 'ridge-alpha-1.0', 'split': 'val', 'rmse': 17.7418, 'r2': -1.2222}, {'model': 'ridge-alpha-1.0', 'split': 'test', 'rmse': 14.4503, 'r2': -0.3417}, {'model': 'lasso-alpha-20.0', 'split': 'train', 'rmse': 11.2661, 'r2': 0.0}, {'model': 'lasso-alpha-20.0', 'split': 'val', 'rmse': 12.044, 'r2': -0.0241}, {'model': 'lasso-alpha-20.0', 'split': 'test', 'rmse': 12.5069, 'r2': -0.0051}, {'model': 'ridge-alpha-20.0', 'split': 'train', 'rmse': 7.2284, 'r2': 0.5883}, {'model': 'ridge-alpha-20.0', 'split': 'val', 'rmse': 11.9035, 'r2': -0.0003}, {'model': 'ridge-alpha-20.0', 'split': 'test', 'rmse': 10.63, 'r2': 0.274}, {'model': 'lasso-alpha-10.0', 'split': 'train', 'rmse': 11.2661, 'r2': 0.0}, {'model': 'lasso-alpha-10.0', 'split': 'val', 'rmse': 12.044, 'r2': -0.0241}, {'model': 'lasso-alpha-10.0', 'split': 'test', 'rmse': 12.5069, 'r2': -0.0051}, {'model': 'ridge-alpha-10.0', 'split': 'train', 'rmse': 7.1671, 'r2': 0.5953}, {'model': 'ridge-alpha-10.0', 'split': 'val', 'rmse': 12.2179, 'r2': -0.0538}, {'model': 'ridge-alpha-10.0', 'split': 'test', 'rmse': 10.8991, 'r2': 0.2367}, {'model': 'lasso-alpha-100.0', 'split': 'train', 'rmse': 11.2661, 'r2': 0.0}, {'model': 'lasso-alpha-100.0', 'split': 'val', 'rmse': 12.044, 'r2': -0.0241}, {'model': 'lasso-alpha-100.0', 'split': 'test', 'rmse': 12.5069, 'r2': -0.0051}, {'model': 'ridge-alpha-100.0', 'split': 'train', 'rmse': 7.4308, 'r2': 0.565}, {'model': 'ridge-alpha-100.0', 'split': 'val', 'rmse': 11.3323, 'r2': 0.0934}, {'model': 'ridge-alpha-100.0', 'split': 'test', 'rmse': 10.0807, 'r2': 0.3471}, {'model': 'lasso-alpha-1000.0', 'split': 'train', 'rmse': 11.2661, 'r2': 0.0}, {'model': 'lasso-alpha-1000.0', 'split': 'val', 'rmse': 12.044, 'r2': -0.0241}, {'model': 'lasso-alpha-1000.0', 'split': 'test', 'rmse': 12.5069, 'r2': -0.0051}, {'model': 'ridge-alpha-1000.0', 'split': 'train', 'rmse': 8.114, 'r2': 0.4813}, {'model': 'ridge-alpha-1000.0', 'split': 'val', 'rmse': 10.6286, 'r2': 0.2025}, {'model': 'ridge-alpha-1000.0', 'split': 'test', 'rmse': 9.7635, 'r2': 0.3875}]\n",
      "[{'model': 'dummy', 'split': 'train', 'rmse': 5.7323, 'r2': 0.0}, {'model': 'dummy', 'split': 'val', 'rmse': 6.321, 'r2': -0.0284}, {'model': 'dummy', 'split': 'test', 'rmse': 6.4681, 'r2': -0.0124}, {'model': 'linear', 'split': 'train', 'rmse': 3.7172, 'r2': 0.5795}, {'model': 'linear', 'split': 'val', 'rmse': 18489702490713.113, 'r2': -8.799066995810595e+24}, {'model': 'linear', 'split': 'test', 'rmse': 14961769494496.836, 'r2': -5.416895330966806e+24}, {'model': 'lasso-alpha-0.01', 'split': 'train', 'rmse': 3.8194, 'r2': 0.5561}, {'model': 'lasso-alpha-0.01', 'split': 'val', 'rmse': 6.6099, 'r2': -0.1245}, {'model': 'lasso-alpha-0.01', 'split': 'test', 'rmse': 5.5125, 'r2': 0.2647}, {'model': 'ridge-alpha-0.01', 'split': 'train', 'rmse': 3.7286, 'r2': 0.5769}, {'model': 'ridge-alpha-0.01', 'split': 'val', 'rmse': 23.1782, 'r2': -12.8272}, {'model': 'ridge-alpha-0.01', 'split': 'test', 'rmse': 19.9704, 'r2': -8.6506}, {'model': 'lasso-alpha-0.1', 'split': 'train', 'rmse': 4.1376, 'r2': 0.479}, {'model': 'lasso-alpha-0.1', 'split': 'val', 'rmse': 6.0575, 'r2': 0.0556}, {'model': 'lasso-alpha-0.1', 'split': 'test', 'rmse': 5.3136, 'r2': 0.3168}, {'model': 'ridge-alpha-0.1', 'split': 'train', 'rmse': 3.7306, 'r2': 0.5764}, {'model': 'ridge-alpha-0.1', 'split': 'val', 'rmse': 17.0958, 'r2': -6.5224}, {'model': 'ridge-alpha-0.1', 'split': 'test', 'rmse': 14.7893, 'r2': -4.2927}, {'model': 'lasso-alpha-0.2', 'split': 'train', 'rmse': 4.2598, 'r2': 0.4478}, {'model': 'lasso-alpha-0.2', 'split': 'val', 'rmse': 5.9672, 'r2': 0.0835}, {'model': 'lasso-alpha-0.2', 'split': 'test', 'rmse': 5.3068, 'r2': 0.3185}, {'model': 'ridge-alpha-0.2', 'split': 'train', 'rmse': 3.733, 'r2': 0.5759}, {'model': 'ridge-alpha-0.2', 'split': 'val', 'rmse': 15.517, 'r2': -5.1972}, {'model': 'ridge-alpha-0.2', 'split': 'test', 'rmse': 13.1274, 'r2': -3.1701}, {'model': 'lasso-alpha-0.5', 'split': 'train', 'rmse': 4.4121, 'r2': 0.4076}, {'model': 'lasso-alpha-0.5', 'split': 'val', 'rmse': 5.9106, 'r2': 0.1008}, {'model': 'lasso-alpha-0.5', 'split': 'test', 'rmse': 5.3454, 'r2': 0.3086}, {'model': 'ridge-alpha-0.5', 'split': 'train', 'rmse': 3.7403, 'r2': 0.5743}, {'model': 'ridge-alpha-0.5', 'split': 'val', 'rmse': 12.579, 'r2': -3.0726}, {'model': 'ridge-alpha-0.5', 'split': 'test', 'rmse': 10.2881, 'r2': -1.5613}, {'model': 'lasso-alpha-1.0', 'split': 'train', 'rmse': 4.6489, 'r2': 0.3423}, {'model': 'lasso-alpha-1.0', 'split': 'val', 'rmse': 5.9057, 'r2': 0.1023}, {'model': 'lasso-alpha-1.0', 'split': 'test', 'rmse': 5.4851, 'r2': 0.272}, {'model': 'ridge-alpha-1.0', 'split': 'train', 'rmse': 3.7499, 'r2': 0.5721}, {'model': 'ridge-alpha-1.0', 'split': 'val', 'rmse': 10.1392, 'r2': -1.646}, {'model': 'ridge-alpha-1.0', 'split': 'test', 'rmse': 8.1943, 'r2': -0.6248}, {'model': 'lasso-alpha-20.0', 'split': 'train', 'rmse': 5.7323, 'r2': 0.0}, {'model': 'lasso-alpha-20.0', 'split': 'val', 'rmse': 6.321, 'r2': -0.0284}, {'model': 'lasso-alpha-20.0', 'split': 'test', 'rmse': 6.4681, 'r2': -0.0124}, {'model': 'ridge-alpha-20.0', 'split': 'train', 'rmse': 3.8476, 'r2': 0.5495}, {'model': 'ridge-alpha-20.0', 'split': 'val', 'rmse': 6.3641, 'r2': -0.0424}, {'model': 'ridge-alpha-20.0', 'split': 'test', 'rmse': 5.2571, 'r2': 0.3312}, {'model': 'lasso-alpha-10.0', 'split': 'train', 'rmse': 5.7323, 'r2': 0.0}, {'model': 'lasso-alpha-10.0', 'split': 'val', 'rmse': 6.321, 'r2': -0.0284}, {'model': 'lasso-alpha-10.0', 'split': 'test', 'rmse': 6.4681, 'r2': -0.0124}, {'model': 'ridge-alpha-10.0', 'split': 'train', 'rmse': 3.8138, 'r2': 0.5573}, {'model': 'ridge-alpha-10.0', 'split': 'val', 'rmse': 6.5491, 'r2': -0.1039}, {'model': 'ridge-alpha-10.0', 'split': 'test', 'rmse': 5.3904, 'r2': 0.2969}, {'model': 'lasso-alpha-100.0', 'split': 'train', 'rmse': 5.7323, 'r2': 0.0}, {'model': 'lasso-alpha-100.0', 'split': 'val', 'rmse': 6.321, 'r2': -0.0284}, {'model': 'lasso-alpha-100.0', 'split': 'test', 'rmse': 6.4681, 'r2': -0.0124}, {'model': 'ridge-alpha-100.0', 'split': 'train', 'rmse': 3.9654, 'r2': 0.5215}, {'model': 'ridge-alpha-100.0', 'split': 'val', 'rmse': 6.0666, 'r2': 0.0527}, {'model': 'ridge-alpha-100.0', 'split': 'test', 'rmse': 5.1653, 'r2': 0.3544}, {'model': 'lasso-alpha-1000.0', 'split': 'train', 'rmse': 5.7323, 'r2': 0.0}, {'model': 'lasso-alpha-1000.0', 'split': 'val', 'rmse': 6.321, 'r2': -0.0284}, {'model': 'lasso-alpha-1000.0', 'split': 'test', 'rmse': 6.4681, 'r2': -0.0124}, {'model': 'ridge-alpha-1000.0', 'split': 'train', 'rmse': 4.3151, 'r2': 0.4333}, {'model': 'ridge-alpha-1000.0', 'split': 'val', 'rmse': 5.6938, 'r2': 0.1656}, {'model': 'ridge-alpha-1000.0', 'split': 'test', 'rmse': 5.1814, 'r2': 0.3503}]\n"
     ]
    },
    {
     "name": "stderr",
     "output_type": "stream",
     "text": [
      "/home/ucloud/.local/lib/python3.12/site-packages/sklearn/linear_model/_coordinate_descent.py:697: ConvergenceWarning: Objective did not converge. You might want to increase the number of iterations, check the scale of the features or consider increasing regularisation. Duality gap: 1.271e+01, tolerance: 3.308e+00\n",
      "  model = cd_fast.enet_coordinate_descent(\n"
     ]
    },
    {
     "name": "stdout",
     "output_type": "stream",
     "text": [
      "[{'model': 'dummy', 'split': 'train', 'rmse': 6.9849, 'r2': 0.0}, {'model': 'dummy', 'split': 'val', 'rmse': 6.9448, 'r2': -0.0068}, {'model': 'dummy', 'split': 'test', 'rmse': 7.2624, 'r2': -0.0001}, {'model': 'linear', 'split': 'train', 'rmse': 5.3493, 'r2': 0.4135}, {'model': 'linear', 'split': 'val', 'rmse': 9541660576076.375, 'r2': -1.9004629985668793e+24}, {'model': 'linear', 'split': 'test', 'rmse': 7721061288113.634, 'r2': -1.1303945051914359e+24}, {'model': 'lasso-alpha-0.01', 'split': 'train', 'rmse': 5.4256, 'r2': 0.3966}, {'model': 'lasso-alpha-0.01', 'split': 'val', 'rmse': 6.9139, 'r2': 0.0022}, {'model': 'lasso-alpha-0.01', 'split': 'test', 'rmse': 8.1152, 'r2': -0.2487}, {'model': 'ridge-alpha-0.01', 'split': 'train', 'rmse': 5.3523, 'r2': 0.4128}, {'model': 'ridge-alpha-0.01', 'split': 'val', 'rmse': 31.3533, 'r2': -19.52}, {'model': 'ridge-alpha-0.01', 'split': 'test', 'rmse': 25.9501, 'r2': -11.7689}, {'model': 'lasso-alpha-0.1', 'split': 'train', 'rmse': 5.8064, 'r2': 0.309}, {'model': 'lasso-alpha-0.1', 'split': 'val', 'rmse': 6.8404, 'r2': 0.0233}, {'model': 'lasso-alpha-0.1', 'split': 'test', 'rmse': 7.2534, 'r2': 0.0024}, {'model': 'ridge-alpha-0.1', 'split': 'train', 'rmse': 5.3565, 'r2': 0.4119}, {'model': 'ridge-alpha-0.1', 'split': 'val', 'rmse': 21.9237, 'r2': -9.0332}, {'model': 'ridge-alpha-0.1', 'split': 'test', 'rmse': 18.8169, 'r2': -5.7139}, {'model': 'lasso-alpha-0.2', 'split': 'train', 'rmse': 6.0667, 'r2': 0.2456}, {'model': 'lasso-alpha-0.2', 'split': 'val', 'rmse': 6.6849, 'r2': 0.0672}, {'model': 'lasso-alpha-0.2', 'split': 'test', 'rmse': 6.9905, 'r2': 0.0734}, {'model': 'ridge-alpha-0.2', 'split': 'train', 'rmse': 5.362, 'r2': 0.4107}, {'model': 'ridge-alpha-0.2', 'split': 'val', 'rmse': 16.8892, 'r2': -4.9543}, {'model': 'ridge-alpha-0.2', 'split': 'test', 'rmse': 15.5235, 'r2': -3.5693}, {'model': 'lasso-alpha-0.5', 'split': 'train', 'rmse': 6.388, 'r2': 0.1636}, {'model': 'lasso-alpha-0.5', 'split': 'val', 'rmse': 6.5363, 'r2': 0.1082}, {'model': 'lasso-alpha-0.5', 'split': 'test', 'rmse': 6.6156, 'r2': 0.1701}, {'model': 'ridge-alpha-0.5', 'split': 'train', 'rmse': 5.3739, 'r2': 0.4081}, {'model': 'ridge-alpha-0.5', 'split': 'val', 'rmse': 11.2632, 'r2': -1.6481}, {'model': 'ridge-alpha-0.5', 'split': 'test', 'rmse': 11.8517, 'r2': -1.6634}, {'model': 'lasso-alpha-1.0', 'split': 'train', 'rmse': 6.5692, 'r2': 0.1155}, {'model': 'lasso-alpha-1.0', 'split': 'val', 'rmse': 6.6777, 'r2': 0.0692}, {'model': 'lasso-alpha-1.0', 'split': 'test', 'rmse': 6.7743, 'r2': 0.1298}, {'model': 'ridge-alpha-1.0', 'split': 'train', 'rmse': 5.3845, 'r2': 0.4057}, {'model': 'ridge-alpha-1.0', 'split': 'val', 'rmse': 8.788, 'r2': -0.6121}, {'model': 'ridge-alpha-1.0', 'split': 'test', 'rmse': 10.1723, 'r2': -0.9621}, {'model': 'lasso-alpha-20.0', 'split': 'train', 'rmse': 6.9849, 'r2': 0.0}, {'model': 'lasso-alpha-20.0', 'split': 'val', 'rmse': 6.9448, 'r2': -0.0068}, {'model': 'lasso-alpha-20.0', 'split': 'test', 'rmse': 7.2624, 'r2': -0.0001}, {'model': 'ridge-alpha-20.0', 'split': 'train', 'rmse': 5.4631, 'r2': 0.3883}, {'model': 'ridge-alpha-20.0', 'split': 'val', 'rmse': 6.5933, 'r2': 0.0926}, {'model': 'ridge-alpha-20.0', 'split': 'test', 'rmse': 7.9561, 'r2': -0.2003}, {'model': 'lasso-alpha-10.0', 'split': 'train', 'rmse': 6.9849, 'r2': 0.0}, {'model': 'lasso-alpha-10.0', 'split': 'val', 'rmse': 6.9448, 'r2': -0.0068}, {'model': 'lasso-alpha-10.0', 'split': 'test', 'rmse': 7.2624, 'r2': -0.0001}, {'model': 'ridge-alpha-10.0', 'split': 'train', 'rmse': 5.4304, 'r2': 0.3956}, {'model': 'ridge-alpha-10.0', 'split': 'val', 'rmse': 6.7959, 'r2': 0.0359}, {'model': 'ridge-alpha-10.0', 'split': 'test', 'rmse': 8.3049, 'r2': -0.3078}, {'model': 'lasso-alpha-100.0', 'split': 'train', 'rmse': 6.9849, 'r2': 0.0}, {'model': 'lasso-alpha-100.0', 'split': 'val', 'rmse': 6.9448, 'r2': -0.0068}, {'model': 'lasso-alpha-100.0', 'split': 'test', 'rmse': 7.2624, 'r2': -0.0001}, {'model': 'ridge-alpha-100.0', 'split': 'train', 'rmse': 5.6366, 'r2': 0.3488}, {'model': 'ridge-alpha-100.0', 'split': 'val', 'rmse': 6.2731, 'r2': 0.1785}, {'model': 'ridge-alpha-100.0', 'split': 'test', 'rmse': 7.2422, 'r2': 0.0055}, {'model': 'lasso-alpha-1000.0', 'split': 'train', 'rmse': 6.9849, 'r2': 0.0}, {'model': 'lasso-alpha-1000.0', 'split': 'val', 'rmse': 6.9448, 'r2': -0.0068}, {'model': 'lasso-alpha-1000.0', 'split': 'test', 'rmse': 7.2624, 'r2': -0.0001}, {'model': 'ridge-alpha-1000.0', 'split': 'train', 'rmse': 6.1362, 'r2': 0.2282}, {'model': 'ridge-alpha-1000.0', 'split': 'val', 'rmse': 6.2784, 'r2': 0.1772}, {'model': 'ridge-alpha-1000.0', 'split': 'test', 'rmse': 6.6609, 'r2': 0.1587}]\n"
     ]
    },
    {
     "name": "stderr",
     "output_type": "stream",
     "text": [
      "/home/ucloud/.local/lib/python3.12/site-packages/sklearn/linear_model/_coordinate_descent.py:697: ConvergenceWarning: Objective did not converge. You might want to increase the number of iterations, check the scale of the features or consider increasing regularisation. Duality gap: 1.074e+02, tolerance: 9.889e+00\n",
      "  model = cd_fast.enet_coordinate_descent(\n"
     ]
    },
    {
     "name": "stdout",
     "output_type": "stream",
     "text": [
      "[{'model': 'dummy', 'split': 'train', 'rmse': 12.0773, 'r2': 0.0}, {'model': 'dummy', 'split': 'val', 'rmse': 12.2307, 'r2': -0.0065}, {'model': 'dummy', 'split': 'test', 'rmse': 12.6877, 'r2': -0.0034}, {'model': 'linear', 'split': 'train', 'rmse': 9.5852, 'r2': 0.3701}, {'model': 'linear', 'split': 'val', 'rmse': 102007974345611.89, 'r2': -7.001648449968539e+25}, {'model': 'linear', 'split': 'test', 'rmse': 82544313499795.88, 'r2': -4.247020950025981e+25}, {'model': 'lasso-alpha-0.01', 'split': 'train', 'rmse': 9.7024, 'r2': 0.3546}, {'model': 'lasso-alpha-0.01', 'split': 'val', 'rmse': 15.2863, 'r2': -0.5723}, {'model': 'lasso-alpha-0.01', 'split': 'test', 'rmse': 16.1432, 'r2': -0.6244}, {'model': 'ridge-alpha-0.01', 'split': 'train', 'rmse': 9.6137, 'r2': 0.3664}, {'model': 'ridge-alpha-0.01', 'split': 'val', 'rmse': 51.0289, 'r2': -16.5212}, {'model': 'ridge-alpha-0.01', 'split': 'test', 'rmse': 73.2512, 'r2': -32.4456}, {'model': 'lasso-alpha-0.1', 'split': 'train', 'rmse': 10.134, 'r2': 0.2959}, {'model': 'lasso-alpha-0.1', 'split': 'val', 'rmse': 12.0027, 'r2': 0.0306}, {'model': 'lasso-alpha-0.1', 'split': 'test', 'rmse': 12.3421, 'r2': 0.0505}, {'model': 'ridge-alpha-0.1', 'split': 'train', 'rmse': 9.6198, 'r2': 0.3656}, {'model': 'ridge-alpha-0.1', 'split': 'val', 'rmse': 40.2392, 'r2': -9.8951}, {'model': 'ridge-alpha-0.1', 'split': 'test', 'rmse': 45.1134, 'r2': -11.6859}, {'model': 'lasso-alpha-0.2', 'split': 'train', 'rmse': 10.4105, 'r2': 0.257}, {'model': 'lasso-alpha-0.2', 'split': 'val', 'rmse': 11.6237, 'r2': 0.0909}, {'model': 'lasso-alpha-0.2', 'split': 'test', 'rmse': 12.1375, 'r2': 0.0817}, {'model': 'ridge-alpha-0.2', 'split': 'train', 'rmse': 9.6265, 'r2': 0.3647}, {'model': 'ridge-alpha-0.2', 'split': 'val', 'rmse': 34.6366, 'r2': -7.0724}, {'model': 'ridge-alpha-0.2', 'split': 'test', 'rmse': 37.2833, 'r2': -7.6644}, {'model': 'lasso-alpha-0.5', 'split': 'train', 'rmse': 10.8273, 'r2': 0.1963}, {'model': 'lasso-alpha-0.5', 'split': 'val', 'rmse': 11.3975, 'r2': 0.1259}, {'model': 'lasso-alpha-0.5', 'split': 'test', 'rmse': 11.9211, 'r2': 0.1142}, {'model': 'ridge-alpha-0.5', 'split': 'train', 'rmse': 9.6428, 'r2': 0.3625}, {'model': 'ridge-alpha-0.5', 'split': 'val', 'rmse': 26.4367, 'r2': -3.7027}, {'model': 'ridge-alpha-0.5', 'split': 'test', 'rmse': 27.1958, 'r2': -3.6101}, {'model': 'lasso-alpha-1.0', 'split': 'train', 'rmse': 11.0525, 'r2': 0.1625}, {'model': 'lasso-alpha-1.0', 'split': 'val', 'rmse': 11.4729, 'r2': 0.1143}, {'model': 'lasso-alpha-1.0', 'split': 'test', 'rmse': 12.0212, 'r2': 0.0992}, {'model': 'ridge-alpha-1.0', 'split': 'train', 'rmse': 9.6609, 'r2': 0.3601}, {'model': 'ridge-alpha-1.0', 'split': 'val', 'rmse': 20.9569, 'r2': -1.9552}, {'model': 'ridge-alpha-1.0', 'split': 'test', 'rmse': 21.325, 'r2': -1.8346}, {'model': 'lasso-alpha-20.0', 'split': 'train', 'rmse': 12.0773, 'r2': 0.0}, {'model': 'lasso-alpha-20.0', 'split': 'val', 'rmse': 12.2307, 'r2': -0.0065}, {'model': 'lasso-alpha-20.0', 'split': 'test', 'rmse': 12.6877, 'r2': -0.0034}, {'model': 'ridge-alpha-20.0', 'split': 'train', 'rmse': 9.8386, 'r2': 0.3364}, {'model': 'ridge-alpha-20.0', 'split': 'val', 'rmse': 13.026, 'r2': -0.1417}, {'model': 'ridge-alpha-20.0', 'split': 'test', 'rmse': 13.3534, 'r2': -0.1115}, {'model': 'lasso-alpha-10.0', 'split': 'train', 'rmse': 12.0773, 'r2': 0.0}, {'model': 'lasso-alpha-10.0', 'split': 'val', 'rmse': 12.2307, 'r2': -0.0065}, {'model': 'lasso-alpha-10.0', 'split': 'test', 'rmse': 12.6877, 'r2': -0.0034}, {'model': 'ridge-alpha-10.0', 'split': 'train', 'rmse': 9.772, 'r2': 0.3453}, {'model': 'ridge-alpha-10.0', 'split': 'val', 'rmse': 13.5624, 'r2': -0.2377}, {'model': 'ridge-alpha-10.0', 'split': 'test', 'rmse': 14.0421, 'r2': -0.2291}, {'model': 'lasso-alpha-100.0', 'split': 'train', 'rmse': 12.0773, 'r2': 0.0}, {'model': 'lasso-alpha-100.0', 'split': 'val', 'rmse': 12.2307, 'r2': -0.0065}, {'model': 'lasso-alpha-100.0', 'split': 'test', 'rmse': 12.6877, 'r2': -0.0034}, {'model': 'ridge-alpha-100.0', 'split': 'train', 'rmse': 10.0706, 'r2': 0.3047}, {'model': 'ridge-alpha-100.0', 'split': 'val', 'rmse': 12.1127, 'r2': 0.0128}, {'model': 'ridge-alpha-100.0', 'split': 'test', 'rmse': 12.2967, 'r2': 0.0575}, {'model': 'lasso-alpha-1000.0', 'split': 'train', 'rmse': 12.0773, 'r2': 0.0}, {'model': 'lasso-alpha-1000.0', 'split': 'val', 'rmse': 12.2307, 'r2': -0.0065}, {'model': 'lasso-alpha-1000.0', 'split': 'test', 'rmse': 12.6877, 'r2': -0.0034}, {'model': 'ridge-alpha-1000.0', 'split': 'train', 'rmse': 10.6569, 'r2': 0.2214}, {'model': 'ridge-alpha-1000.0', 'split': 'val', 'rmse': 11.5171, 'r2': 0.1075}, {'model': 'ridge-alpha-1000.0', 'split': 'test', 'rmse': 11.7909, 'r2': 0.1334}]\n",
      "[{'model': 'dummy', 'split': 'train', 'rmse': 7.7361, 'r2': 0.0}, {'model': 'dummy', 'split': 'val', 'rmse': 7.7512, 'r2': -0.0008}, {'model': 'dummy', 'split': 'test', 'rmse': 7.6235, 'r2': -0.0102}, {'model': 'linear', 'split': 'train', 'rmse': 5.8304, 'r2': 0.432}, {'model': 'linear', 'split': 'val', 'rmse': 14427192757244.838, 'r2': -3.467023604088372e+24}, {'model': 'linear', 'split': 'test', 'rmse': 11674408099010.355, 'r2': -2.3689740824144115e+24}, {'model': 'lasso-alpha-0.01', 'split': 'train', 'rmse': 5.936, 'r2': 0.4112}, {'model': 'lasso-alpha-0.01', 'split': 'val', 'rmse': 9.0117, 'r2': -0.3527}, {'model': 'lasso-alpha-0.01', 'split': 'test', 'rmse': 10.0247, 'r2': -0.7468}, {'model': 'ridge-alpha-0.01', 'split': 'train', 'rmse': 5.834, 'r2': 0.4313}, {'model': 'ridge-alpha-0.01', 'split': 'val', 'rmse': 50.8718, 'r2': -42.1069}, {'model': 'ridge-alpha-0.01', 'split': 'test', 'rmse': 37.7951, 'r2': -23.8291}, {'model': 'lasso-alpha-0.1', 'split': 'train', 'rmse': 6.328, 'r2': 0.3309}, {'model': 'lasso-alpha-0.1', 'split': 'val', 'rmse': 7.8578, 'r2': -0.0285}, {'model': 'lasso-alpha-0.1', 'split': 'test', 'rmse': 8.0726, 'r2': -0.1327}, {'model': 'ridge-alpha-0.1', 'split': 'train', 'rmse': 5.8411, 'r2': 0.4299}, {'model': 'ridge-alpha-0.1', 'split': 'val', 'rmse': 36.4738, 'r2': -21.1593}, {'model': 'ridge-alpha-0.1', 'split': 'test', 'rmse': 26.5229, 'r2': -11.2274}, {'model': 'lasso-alpha-0.2', 'split': 'train', 'rmse': 6.654, 'r2': 0.2602}, {'model': 'lasso-alpha-0.2', 'split': 'val', 'rmse': 7.4147, 'r2': 0.0842}, {'model': 'lasso-alpha-0.2', 'split': 'test', 'rmse': 7.5601, 'r2': 0.0066}, {'model': 'ridge-alpha-0.2', 'split': 'train', 'rmse': 5.8501, 'r2': 0.4281}, {'model': 'ridge-alpha-0.2', 'split': 'val', 'rmse': 28.1367, 'r2': -12.1868}, {'model': 'ridge-alpha-0.2', 'split': 'test', 'rmse': 21.738, 'r2': -7.2135}, {'model': 'lasso-alpha-0.5', 'split': 'train', 'rmse': 7.0813, 'r2': 0.1621}, {'model': 'lasso-alpha-0.5', 'split': 'val', 'rmse': 7.4574, 'r2': 0.0737}, {'model': 'lasso-alpha-0.5', 'split': 'test', 'rmse': 7.4294, 'r2': 0.0406}, {'model': 'ridge-alpha-0.5', 'split': 'train', 'rmse': 5.8686, 'r2': 0.4245}, {'model': 'ridge-alpha-0.5', 'split': 'val', 'rmse': 17.9183, 'r2': -4.3479}, {'model': 'ridge-alpha-0.5', 'split': 'test', 'rmse': 16.0166, 'r2': -3.4589}, {'model': 'lasso-alpha-1.0', 'split': 'train', 'rmse': 7.3502, 'r2': 0.0973}, {'model': 'lasso-alpha-1.0', 'split': 'val', 'rmse': 7.6429, 'r2': 0.027}, {'model': 'lasso-alpha-1.0', 'split': 'test', 'rmse': 7.5277, 'r2': 0.0151}, {'model': 'ridge-alpha-1.0', 'split': 'train', 'rmse': 5.885, 'r2': 0.4213}, {'model': 'ridge-alpha-1.0', 'split': 'val', 'rmse': 12.8228, 'r2': -1.7388}, {'model': 'ridge-alpha-1.0', 'split': 'test', 'rmse': 13.1317, 'r2': -1.9973}, {'model': 'lasso-alpha-20.0', 'split': 'train', 'rmse': 7.7361, 'r2': 0.0}, {'model': 'lasso-alpha-20.0', 'split': 'val', 'rmse': 7.7512, 'r2': -0.0008}, {'model': 'lasso-alpha-20.0', 'split': 'test', 'rmse': 7.6235, 'r2': -0.0102}, {'model': 'ridge-alpha-20.0', 'split': 'train', 'rmse': 6.0203, 'r2': 0.3944}, {'model': 'ridge-alpha-20.0', 'split': 'val', 'rmse': 8.4725, 'r2': -0.1957}, {'model': 'ridge-alpha-20.0', 'split': 'test', 'rmse': 8.8466, 'r2': -0.3603}, {'model': 'lasso-alpha-10.0', 'split': 'train', 'rmse': 7.7361, 'r2': 0.0}, {'model': 'lasso-alpha-10.0', 'split': 'val', 'rmse': 7.7512, 'r2': -0.0008}, {'model': 'lasso-alpha-10.0', 'split': 'test', 'rmse': 7.6235, 'r2': -0.0102}, {'model': 'ridge-alpha-10.0', 'split': 'train', 'rmse': 5.9675, 'r2': 0.405}, {'model': 'ridge-alpha-10.0', 'split': 'val', 'rmse': 8.6998, 'r2': -0.2607}, {'model': 'ridge-alpha-10.0', 'split': 'test', 'rmse': 9.4196, 'r2': -0.5423}, {'model': 'lasso-alpha-100.0', 'split': 'train', 'rmse': 7.7361, 'r2': 0.0}, {'model': 'lasso-alpha-100.0', 'split': 'val', 'rmse': 7.7512, 'r2': -0.0008}, {'model': 'lasso-alpha-100.0', 'split': 'test', 'rmse': 7.6235, 'r2': -0.0102}, {'model': 'ridge-alpha-100.0', 'split': 'train', 'rmse': 6.235, 'r2': 0.3504}, {'model': 'ridge-alpha-100.0', 'split': 'val', 'rmse': 7.9449, 'r2': -0.0514}, {'model': 'ridge-alpha-100.0', 'split': 'test', 'rmse': 7.9238, 'r2': -0.0913}, {'model': 'lasso-alpha-1000.0', 'split': 'train', 'rmse': 7.7361, 'r2': 0.0}, {'model': 'lasso-alpha-1000.0', 'split': 'val', 'rmse': 7.7512, 'r2': -0.0008}, {'model': 'lasso-alpha-1000.0', 'split': 'test', 'rmse': 7.6235, 'r2': -0.0102}, {'model': 'ridge-alpha-1000.0', 'split': 'train', 'rmse': 6.7595, 'r2': 0.2365}, {'model': 'ridge-alpha-1000.0', 'split': 'val', 'rmse': 7.4413, 'r2': 0.0777}, {'model': 'ridge-alpha-1000.0', 'split': 'test', 'rmse': 7.3254, 'r2': 0.0673}]\n"
     ]
    }
   ],
   "source": [
    "loop_through_dfs(dataframes)"
   ]
  }
 ],
 "metadata": {
  "kernelspec": {
   "display_name": "Python 3",
   "language": "python",
   "name": "python3"
  },
  "language_info": {
   "codemirror_mode": {
    "name": "ipython",
    "version": 3
   },
   "file_extension": ".py",
   "mimetype": "text/x-python",
   "name": "python",
   "nbconvert_exporter": "python",
   "pygments_lexer": "ipython3",
   "version": "3.12.3"
  }
 },
 "nbformat": 4,
 "nbformat_minor": 2
}
