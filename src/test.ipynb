{
 "cells": [
  {
   "cell_type": "code",
   "execution_count": 1,
   "metadata": {
    "metadata": {}
   },
   "outputs": [],
   "source": [
    "# import packages\n",
    "import pandas as pd\n",
    "import matplotlib.pyplot as plt\n",
    "import seaborn as sns"
   ]
  },
  {
   "cell_type": "code",
   "execution_count": 49,
   "metadata": {
    "metadata": {}
   },
   "outputs": [],
   "source": [
    "# load data\n",
    "data_path = \"../data/answers-dataset-0.2.0.csv\"\n",
    "df = pd.read_csv(data_path)"
   ]
  },
  {
   "cell_type": "code",
   "execution_count": null,
   "metadata": {},
   "outputs": [],
   "source": [
    "# some of the data has already been preprocessed calculating a final score \n",
    "# for some variables, e.g. CESD test"
   ]
  },
  {
   "cell_type": "code",
   "execution_count": 41,
   "metadata": {
    "metadata": {}
   },
   "outputs": [],
   "source": [
    "colnames = df.columns.tolist()"
   ]
  },
  {
   "cell_type": "code",
   "execution_count": 42,
   "metadata": {
    "metadata": {}
   },
   "outputs": [
    {
     "name": "stdout",
     "output_type": "stream",
     "text": [
      "['id', 'age', 'sex', 'transgender', 'left_handed', 'college_educated', 'wd_ttb', 'wd_tts', 'wd_bts', 'wd_sol', 'wd_nwak', 'wd_waso', 'wd_tfa', 'wd_tob', 'wd_ema', 'wd_sq', 'wd_tib', 'wd_twt', 'wd_tst', 'wd_se', 'we_ttb', 'we_tts', 'we_bts', 'we_sol', 'we_nwak', 'we_waso', 'we_tfa', 'we_tob', 'we_ema', 'we_sq', 'we_tib', 'we_twt', 'we_tst', 'we_se', 'msw', 'msf', 'msfsc1', 'msfsc2', 'socialjetlag', 'psqi_1', 'psqi_2', 'psqi_3', 'psqi_4', 'psqi_5a', 'psqi_5b', 'psqi_5c', 'psqi_5d', 'psqi_5e', 'psqi_5f', 'psqi_5g', 'psqi_5h', 'psqi_5i', 'psqi_5j', 'psqi_6', 'psqi_7', 'psqi_8', 'psqi_9', 'psqi_10', 'psqi_11a', 'psqi_11b', 'psqi_11c', 'psqi_11d', 'psqi_11e', 'psqi_c1', 'psqi_c2', 'psqi_c3', 'psqi_c4', 'psqi_c5', 'psqi_c6', 'psqi_c7', 'psqi_total', 'brisc_1', 'brisc_2', 'brisc_3', 'brisc_4', 'brisc_total', 'isi_1', 'isi_2', 'isi_3', 'isi_4', 'isi_5', 'isi_6', 'isi_7', 'isi_total', 'upps_1', 'upps_2', 'upps_3', 'upps_4', 'upps_5', 'upps_6', 'upps_7', 'upps_8', 'upps_9', 'upps_10', 'upps_11', 'upps_12', 'upps_13', 'upps_14', 'upps_15', 'upps_16', 'upps_17', 'upps_18', 'upps_19', 'upps_20', 'upps_negativeurgency', 'upps_lackpersevere', 'upps_lackpremeditate', 'upps_sensationseek', 'upps_positiveurgency', 'upps_total', 'cesd_1', 'cesd_2', 'cesd_3', 'cesd_4', 'cesd_5', 'cesd_6', 'cesd_7', 'cesd_8', 'cesd_9', 'cesd_10', 'cesd_11', 'cesd_12', 'cesd_13', 'cesd_14', 'cesd_15', 'cesd_16', 'cesd_17', 'cesd_18', 'cesd_19', 'cesd_20', 'cesd_total', 'gad_1', 'gad_2', 'gad_3', 'gad_4', 'gad_5', 'gad_6', 'gad_7', 'gad_total', 'sds_1', 'sds_2', 'sds_3', 'sds_4', 'sds_5', 'sds_6', 'sds_7', 'sds_8', 'sds_9', 'sds_10', 'sds_11', 'sds_12', 'sds_13', 'sds_14', 'sds_15', 'sds_16', 'sds_17', 'sds_18', 'sds_19', 'sds_20', 'sds_21', 'sds_22', 'sds_23', 'sds_24', 'sds_25', 'cssrs_3mo_1', 'cssrs_3mo_2', 'cssrs_3mo_3', 'cssrs_3mo_4', 'cssrs_3mo_5', 'cssrs_3mo_6', 'cssrs_3mo_7', 'cssrs_3mo_8', 'si_3mo_yn', 'si_3mo_severity', 'sp_3mo', 'nssi_3mo', 'sa_3mo', 'cssrs_lf_1', 'cssrs_lf_2', 'cssrs_lf_3', 'cssrs_lf_4', 'cssrs_lf_5', 'cssrs_lf_6', 'cssrs_lf_7', 'cssrs_lf_8', 'si_lf_yn', 'si_lf_severity', 'sp_lf', 'nssi_lf', 'sa_lf', 'ddnsi_1', 'ddnsi_2', 'ddnsi_3', 'ddnsi_4', 'ddnsi_5', 'ddnsi_total', 'inq_1', 'inq_2', 'inq_3', 'inq_4', 'inq_5', 'inq_6', 'inq_7', 'inq_8', 'inq_9', 'inq_10', 'inq_11', 'inq_12', 'inq_13', 'inq_14', 'inq_15', 'inq_thwartedbelong', 'inq_perceivedburden', 'mh_health', 'mh_mdd', 'mh_bpd', 'mh_anx', 'mh_pzd', 'mh_ptsd', 'mh_szd', 'mh_meds_1', 'mh_meds_1_name', 'mh_meds_1_dose', 'mh_meds_1_timing', 'mh_meds_1_reason', 'mh_meds_2', 'mh_meds_2_name', 'mh_meds_2_dose', 'mh_meds_2_timing', 'mh_meds_2_reason', 'mh_meds_3', 'mh_meds_3_name', 'mh_meds_3_dose', 'mh_meds_3_timing', 'mh_meds_3_reason', 'mh_meds_4', 'mh_meds_4_name', 'mh_meds_4_dose', 'mh_meds_4_timing', 'mh_meds_4_reason', 'mh_meds_5', 'mh_meds_5_name', 'mh_meds_5_dose', 'mh_meds_5_timing', 'mh_meds_5_reason', 'mh_meds_6', 'mh_meds_6_name', 'mh_meds_6_dose', 'mh_meds_6_timing', 'mh_meds_6_reason', 'subs_caff_05to08', 'subs_caff_08to11', 'subs_caff_11to14', 'subs_caff_14to17', 'subs_caff_17to20', 'subs_caff_20to23', 'subs_caff_23to02', 'subs_caff_02to05', 'subs_tob_05to08', 'subs_tob_08to11', 'subs_tob_11to14', 'subs_tob_14to17', 'subs_tob_17to20', 'subs_tob_20to23', 'subs_tob_23to02', 'subs_tob_02to05', 'subs_tob_3', 'subs_alc_05to08', 'subs_alc_08to11', 'subs_alc_11to14', 'subs_alc_14to17', 'subs_alc_17to20', 'subs_alc_20to23', 'subs_alc_23to02', 'subs_alc_02to05', 'subs_alc_3', 'subs_can_05to08', 'subs_can_08to11', 'subs_can_11to14', 'subs_can_14to17', 'subs_can_17to20', 'subs_can_20to23', 'subs_can_23to02', 'subs_can_02to05', 'subs_can_3', 'visit', 'hispanic', 'Asian', 'Black', 'Islander', 'Multiracial', 'Native', 'White', 'Bisexual', 'Heterosexual', 'Homosexual', 'other_orientation', '$100,000 - $200,000', '$25,000 - $50,000', '$50,000 - $100,000', '< $25,000', '>$200,000', 'income_notsay', 'Caffeine A few times a week', 'Caffeine Daily', 'Caffeine Multiple times daily', 'Caffeine Never', 'Caffeine Once a month or less', 'Caffeine Once a week or less', 'Tobacco Daily Smoker', 'Tobacco Former Smoker', 'Tobacco Never Smoker', 'Tobacco Occasional Smoker', 'Alcohol A few times a week', 'Alcohol Daily', 'Alcohol Multiple times daily', 'Alcohol Never', 'Alcohol Once a month or less', 'Alcohol Once a week or less', 'Cannabis A few times a week', 'Cannabis Daily', 'Cannabis Multiple times daily', 'Cannabis Never', 'Cannabis Once a month or less', 'Cannabis Once a week or less', 'sleep_hour__0', 'sleep_hour__1', 'sleep_hour__2', 'sleep_hour__3', 'sleep_hour__4', 'sleep_hour__5', 'sleep_hour__6', 'sleep_hour__7', 'sleep_hour__8', 'sleep_hour__9', 'sleep_hour__10', 'sleep_hour__11', 'sleep_hour__12', 'sleep_hour__13', 'sleep_hour__14', 'sleep_hour__15', 'sleep_hour__16', 'sleep_hour__18', 'sleep_hour__19', 'sleep_hour__20', 'sleep_hour__21', 'sleep_hour__22', 'sleep_hour__23', 'wake_hour__1', 'wake_hour__2', 'wake_hour__3', 'wake_hour__4', 'wake_hour__5', 'wake_hour__6', 'wake_hour__7', 'wake_hour__8', 'wake_hour__9', 'wake_hour__10', 'wake_hour__11', 'wake_hour__12', 'wake_hour__13', 'wake_hour__14', 'wake_hour__15', 'wake_hour__16', 'wake_hour__17', 'wake_hour__18', 'wake_hour__19', 'wake_hour__20', 'wake_hour__21', 'wake_hour__23']\n"
     ]
    }
   ],
   "source": [
    "print(colnames)"
   ]
  },
  {
   "cell_type": "code",
   "execution_count": 50,
   "metadata": {
    "metadata": {}
   },
   "outputs": [
    {
     "name": "stderr",
     "output_type": "stream",
     "text": [
      "/tmp/ipykernel_2475/2778351387.py:2: FutureWarning: Downcasting behavior in `replace` is deprecated and will be removed in a future version. To retain the old behavior, explicitly call `result.infer_objects(copy=False)`. To opt-in to the future behavior, set `pd.set_option('future.no_silent_downcasting', True)`\n",
      "  df['sex'] = df['sex'].replace({'Male': 0, 'Female': 1})\n",
      "/tmp/ipykernel_2475/2778351387.py:4: FutureWarning: Downcasting behavior in `replace` is deprecated and will be removed in a future version. To retain the old behavior, explicitly call `result.infer_objects(copy=False)`. To opt-in to the future behavior, set `pd.set_option('future.no_silent_downcasting', True)`\n",
      "  df['hispanic'] = df['ethnicity'].replace({'Non-Hispanic': 0, 'Hispanic': 1})\n",
      "/tmp/ipykernel_2475/2778351387.py:7: FutureWarning: Downcasting behavior in `replace` is deprecated and will be removed in a future version. To retain the old behavior, explicitly call `result.infer_objects(copy=False)`. To opt-in to the future behavior, set `pd.set_option('future.no_silent_downcasting', True)`\n",
      "  df['handedness'] = df['handedness'].replace({'Right': 0, 'Left': 1, 'Both': 1})\n",
      "/tmp/ipykernel_2475/2778351387.py:11: FutureWarning: Downcasting behavior in `replace` is deprecated and will be removed in a future version. To retain the old behavior, explicitly call `result.infer_objects(copy=False)`. To opt-in to the future behavior, set `pd.set_option('future.no_silent_downcasting', True)`\n",
      "  df['education'] = df['education'].replace({'High school or less': 0, 'College or more': 1})\n"
     ]
    }
   ],
   "source": [
    "# sex\n",
    "df['sex'] = df['sex'].replace({'Male': 0, 'Female': 1})\n",
    "# hispanic ethnicity\n",
    "df['hispanic'] = df['ethnicity'].replace({'Non-Hispanic': 0, 'Hispanic': 1})\n",
    "df.drop(columns=['ethnicity'], inplace=True)\n",
    "# lefthanded\n",
    "df['handedness'] = df['handedness'].replace({'Right': 0, 'Left': 1, 'Both': 1})\n",
    "df.rename(columns={'handedness': 'left_handed'}, inplace=True)\n",
    "# education\n",
    "df = df.dropna(subset=['education'])\n",
    "df['education'] = df['education'].replace({'High school or less': 0, 'College or more': 1})\n",
    "df.rename(columns={'education': 'college_educated'}, inplace=True)"
   ]
  },
  {
   "cell_type": "code",
   "execution_count": 51,
   "metadata": {
    "metadata": {}
   },
   "outputs": [],
   "source": [
    "def create_dummy_variables(data, column):\n",
    "    dummy_variables = pd.get_dummies(data[column])\n",
    "    dummy_variables = dummy_variables.astype(int)\n",
    "    data = pd.concat([data, dummy_variables], axis=1)\n",
    "    data.drop(columns=[column], inplace=True)\n",
    "    return data"
   ]
  },
  {
   "cell_type": "code",
   "execution_count": 52,
   "metadata": {
    "metadata": {}
   },
   "outputs": [],
   "source": [
    "# race\n",
    "df = create_dummy_variables(df, 'race')\n",
    "# orientation\n",
    "df = create_dummy_variables(df, 'orientation')\n",
    "df.rename(columns={'Other': 'other_orientation'}, inplace=True)\n",
    "# income\n",
    "df = create_dummy_variables(df, 'income')\n",
    "df.rename(columns={'Prefer not to say': 'income_notsay'}, inplace=True)"
   ]
  },
  {
   "cell_type": "code",
   "execution_count": 53,
   "metadata": {
    "metadata": {}
   },
   "outputs": [
    {
     "name": "stderr",
     "output_type": "stream",
     "text": [
      "/tmp/ipykernel_2475/2664658427.py:1: FutureWarning: Downcasting behavior in `replace` is deprecated and will be removed in a future version. To retain the old behavior, explicitly call `result.infer_objects(copy=False)`. To opt-in to the future behavior, set `pd.set_option('future.no_silent_downcasting', True)`\n",
      "  df = df.replace({'No': 0, 'Yes': 1})\n"
     ]
    }
   ],
   "source": [
    "df = df.replace({'No': 0, 'Yes': 1})"
   ]
  },
  {
   "cell_type": "code",
   "execution_count": 54,
   "metadata": {
    "metadata": {}
   },
   "outputs": [],
   "source": [
    "df['subs_caff_1'] = df['subs_caff_1'].apply(lambda x: \"Caffeine \" + x)\n",
    "df['subs_tob_1'] = df['subs_tob_1'].apply(lambda x: \"Tobacco \" + x)\n",
    "df['subs_alc_1'] = df['subs_alc_1'].apply(lambda x: \"Alcohol \" + x)\n",
    "df['subs_can_1'] = df['subs_can_1'].apply(lambda x: \"Cannabis \" + x)"
   ]
  },
  {
   "cell_type": "code",
   "execution_count": 55,
   "metadata": {
    "metadata": {}
   },
   "outputs": [],
   "source": [
    "df = create_dummy_variables(df, 'subs_caff_1')\n",
    "df = create_dummy_variables(df, 'subs_tob_1')\n",
    "df = create_dummy_variables(df, 'subs_alc_1')\n",
    "df = create_dummy_variables(df, 'subs_can_1')"
   ]
  },
  {
   "cell_type": "code",
   "execution_count": 56,
   "metadata": {
    "metadata": {}
   },
   "outputs": [],
   "source": [
    "df['psqi_1'] = df['psqi_1'].str.replace(r'\\.000$', '', regex=True)\n",
    "df['psqi_1'] = pd.to_datetime(df['psqi_1'], format='%H:%M:%S')\n",
    "df['sleep_hour'] = df['psqi_1'].dt.hour\n",
    "df['sleep_minute'] = df['psqi_1'].dt.minute\n",
    "df['sleep_decimal_time'] = df['sleep_hour'] + df['sleep_minute'] / 60\n",
    "df.drop(columns=['sleep_hour', 'sleep_minute'], inplace=True)\n",
    "#hour_dummies = pd.get_dummies(df['hour'], prefix='sleep_hour_')\n",
    "#df = pd.concat([df, hour_dummies], axis=1)\n",
    "#df.drop(columns=['hour'], inplace=True)"
   ]
  },
  {
   "cell_type": "code",
   "execution_count": 57,
   "metadata": {
    "metadata": {}
   },
   "outputs": [],
   "source": [
    "df['psqi_3'] = df['psqi_3'].str.replace(r'\\.000$', '', regex=True)\n",
    "df['psqi_3'] = pd.to_datetime(df['psqi_3'], format='%H:%M:%S')\n",
    "df['wake_hour'] = df['psqi_3'].dt.hour\n",
    "df['wake_minute'] = df['psqi_3'].dt.minute\n",
    "df['wake_decimal_time'] = df['wake_hour'] + df['wake_minute'] / 60\n",
    "df.drop(columns=['wake_hour', 'wake_minute'], inplace=True)\n",
    "#hour_dummies = pd.get_dummies(df['hour'], prefix='wake_hour_')\n",
    "#df = pd.concat([df, hour_dummies], axis=1)\n",
    "#df.drop(columns=['hour'], inplace=True)"
   ]
  },
  {
   "cell_type": "code",
   "execution_count": 60,
   "metadata": {
    "metadata": {}
   },
   "outputs": [
    {
     "data": {
      "image/png": "[encoded data removed]",
      "text/plain": [
       "<Figure size 640x480 with 1 Axes>"
      ]
     },
     "metadata": {},
     "output_type": "display_data"
    }
   ],
   "source": [
    "plt.hist(df['sleep_decimal_time'], bins = 24)\n",
    "plt.show()"
   ]
  },
  {
   "cell_type": "code",
   "execution_count": 20,
   "metadata": {
    "metadata": {}
   },
   "outputs": [],
   "source": [
    "# identify predictor variables\n",
    "pred_vars = [\n",
    "    # general demographic\n",
    "    'age', 'sex', 'Asian', 'Black', 'Islander', 'Multiracial', 'Native', \n",
    "    'White', 'hispanic', 'Bisexual', 'Heterosexual', 'Homosexual', 'other_orientation', \n",
    "    'transgender', 'left_handed', 'college_educated', '$100,000 - $200,000', \n",
    "    '$25,000 - $50,000', '$50,000 - $100,000', '< $25,000', '>$200,000', 'income_notsay', \n",
    "    # weekday sleep info\n",
    "    'wd_ttb', 'wd_tts', 'wd_bts', 'wd_sol', 'wd_nwak', 'wd_waso', 'wd_tfa', \n",
    "    'wd_tob', 'wd_ema', 'wd_sq', 'wd_tib', 'wd_twt', 'wd_tst', 'wd_se', \n",
    "    # weekend sleep info\n",
    "    'we_ttb', 'we_tts', 'we_bts', 'we_sol', 'we_nwak', 'we_waso', 'we_tfa', \n",
    "    'we_tob', 'we_ema', 'we_sq', 'we_tib', 'we_twt', 'we_tst', 'we_se',\n",
    "    # weekday-weekend comparison info\n",
    "    'msw', 'msf', 'msfsc1', 'msfsc2', 'socialjetlag',\n",
    "    # pittsburgh sleep quality index\n",
    "    'sleep_decimal_time', 'psqi_2', 'wake_decimal_time', 'psqi_4', 'psqi_5a', 'psqi_5b', 'psqi_5c', \n",
    "    'psqi_5d', 'psqi_5e', 'psqi_5f', 'psqi_5g', 'psqi_5h', 'psqi_5i', 'psqi_5j', \n",
    "    'psqi_6', 'psqi_7', 'psqi_8', 'psqi_9', 'psqi_10', 'psqi_11a', 'psqi_11b', \n",
    "    'psqi_11c', 'psqi_11d', 'psqi_11e', 'psqi_c1', 'psqi_c2', 'psqi_c3', 'psqi_c4', \n",
    "    'psqi_c5', 'psqi_c6', 'psqi_c7', 'psqi_total',\n",
    "    # brief index of sleep control \n",
    "    'brisc_1', 'brisc_2', 'brisc_3', 'brisc_4', 'brisc_total',\n",
    "    # insomnia severity index\n",
    "    'isi_1', 'isi_2', 'isi_3', 'isi_4', 'isi_5', 'isi_6', 'isi_7', 'isi_total',\n",
    "    # sleep disorders symptoms\n",
    "    'sds_1', 'sds_2', 'sds_3', 'sds_4', 'sds_5', 'sds_6', 'sds_7', 'sds_8', \n",
    "    'sds_9', 'sds_10', 'sds_11', 'sds_12', 'sds_13', 'sds_14', 'sds_15', \n",
    "    'sds_16', 'sds_17', 'sds_18', 'sds_19', 'sds_20', 'sds_21', 'sds_22', 'sds_23', \n",
    "    'sds_24', 'sds_25',\n",
    "    # disturbing dream and nightmare\n",
    "    'ddnsi_1', 'ddnsi_2', 'ddnsi_3', 'ddnsi_4', 'ddnsi_5', 'ddnsi_total',\n",
    "    # caffeine\n",
    "    'Caffeine A few times a week', 'Caffeine Daily', 'Caffeine Multiple times daily', \n",
    "    'Caffeine Never', 'Caffeine Once a month or less', 'Caffeine Once a week or less', \n",
    "    'subs_caff_05to08', 'subs_caff_08to11', 'subs_caff_11to14', 'subs_caff_14to17', \n",
    "    'subs_caff_17to20', 'subs_caff_20to23', 'subs_caff_23to02', 'subs_caff_02to05',\n",
    "    # tobacco\n",
    "    'Tobacco Daily Smoker', 'Tobacco Former Smoker', 'Tobacco Never Smoker', \n",
    "    'Tobacco Occasional Smoker', 'subs_tob_05to08', 'subs_tob_08to11', 'subs_tob_11to14', \n",
    "    'subs_tob_14to17', 'subs_tob_17to20', 'subs_tob_20to23', 'subs_tob_23to02', \n",
    "    'subs_tob_02to05', \n",
    "    # alcohol\n",
    "    'Alcohol A few times a week', 'Alcohol Daily', 'Alcohol Multiple times daily', \n",
    "    'Alcohol Never', 'Alcohol Once a month or less', 'Alcohol Once a week or less', \n",
    "    'subs_alc_05to08', 'subs_alc_08to11', 'subs_alc_11to14', 'subs_alc_14to17', \n",
    "    'subs_alc_17to20', 'subs_alc_20to23', 'subs_alc_23to02', 'subs_alc_02to05', \n",
    "    # cannabis\n",
    "    'Cannabis A few times a week', 'Cannabis Daily', 'Cannabis Multiple times daily', \n",
    "    'Cannabis Never', 'Cannabis Once a month or less', 'Cannabis Once a week or less', \n",
    "    'subs_can_05to08', 'subs_can_08to11', 'subs_can_11to14', 'subs_can_14to17', \n",
    "    'subs_can_17to20', 'subs_can_20to23', 'subs_can_23to02', 'subs_can_02to05'\n",
    "    ]"
   ]
  },
  {
   "cell_type": "code",
   "execution_count": 21,
   "metadata": {
    "metadata": {}
   },
   "outputs": [],
   "source": [
    "predictors = df[pred_vars]"
   ]
  },
  {
   "cell_type": "code",
   "execution_count": 23,
   "metadata": {
    "metadata": {}
   },
   "outputs": [],
   "source": [
    "predictors.to_csv('output.csv', index=False)"
   ]
  },
  {
   "cell_type": "code",
   "execution_count": 57,
   "metadata": {
    "metadata": {}
   },
   "outputs": [
    {
     "data": {
      "text/html": [
       "<div>\n",
       "<style scoped>\n",
       "    .dataframe tbody tr th:only-of-type {\n",
       "        vertical-align: middle;\n",
       "    }\n",
       "\n",
       "    .dataframe tbody tr th {\n",
       "        vertical-align: top;\n",
       "    }\n",
       "\n",
       "    .dataframe thead th {\n",
       "        text-align: right;\n",
       "    }\n",
       "</style>\n",
       "<table border=\"1\" class=\"dataframe\">\n",
       "  <thead>\n",
       "    <tr style=\"text-align: right;\">\n",
       "      <th></th>\n",
       "      <th>age</th>\n",
       "      <th>sex</th>\n",
       "      <th>Asian</th>\n",
       "      <th>Black</th>\n",
       "      <th>Islander</th>\n",
       "      <th>Multiracial</th>\n",
       "      <th>Native</th>\n",
       "      <th>White</th>\n",
       "      <th>hispanic</th>\n",
       "      <th>Bisexual</th>\n",
       "      <th>...</th>\n",
       "      <th>subs_can_1</th>\n",
       "      <th>subs_can_05to08</th>\n",
       "      <th>subs_can_08to11</th>\n",
       "      <th>subs_can_11to14</th>\n",
       "      <th>subs_can_14to17</th>\n",
       "      <th>subs_can_17to20</th>\n",
       "      <th>subs_can_20to23</th>\n",
       "      <th>subs_can_23to02</th>\n",
       "      <th>subs_can_02to05</th>\n",
       "      <th>subs_can_3</th>\n",
       "    </tr>\n",
       "  </thead>\n",
       "  <tbody>\n",
       "    <tr>\n",
       "      <th>0</th>\n",
       "      <td>18.75</td>\n",
       "      <td>1</td>\n",
       "      <td>0</td>\n",
       "      <td>0</td>\n",
       "      <td>0</td>\n",
       "      <td>0</td>\n",
       "      <td>0</td>\n",
       "      <td>1</td>\n",
       "      <td>0</td>\n",
       "      <td>0</td>\n",
       "      <td>...</td>\n",
       "      <td>Never</td>\n",
       "      <td>No</td>\n",
       "      <td>No</td>\n",
       "      <td>No</td>\n",
       "      <td>No</td>\n",
       "      <td>No</td>\n",
       "      <td>No</td>\n",
       "      <td>No</td>\n",
       "      <td>No</td>\n",
       "      <td>Never</td>\n",
       "    </tr>\n",
       "    <tr>\n",
       "      <th>1</th>\n",
       "      <td>19.74</td>\n",
       "      <td>1</td>\n",
       "      <td>0</td>\n",
       "      <td>0</td>\n",
       "      <td>0</td>\n",
       "      <td>1</td>\n",
       "      <td>0</td>\n",
       "      <td>0</td>\n",
       "      <td>0</td>\n",
       "      <td>1</td>\n",
       "      <td>...</td>\n",
       "      <td>Never</td>\n",
       "      <td>No</td>\n",
       "      <td>No</td>\n",
       "      <td>No</td>\n",
       "      <td>No</td>\n",
       "      <td>No</td>\n",
       "      <td>No</td>\n",
       "      <td>No</td>\n",
       "      <td>No</td>\n",
       "      <td>Never</td>\n",
       "    </tr>\n",
       "    <tr>\n",
       "      <th>2</th>\n",
       "      <td>27.33</td>\n",
       "      <td>1</td>\n",
       "      <td>0</td>\n",
       "      <td>0</td>\n",
       "      <td>0</td>\n",
       "      <td>0</td>\n",
       "      <td>0</td>\n",
       "      <td>1</td>\n",
       "      <td>0</td>\n",
       "      <td>1</td>\n",
       "      <td>...</td>\n",
       "      <td>Multiple times daily</td>\n",
       "      <td>No</td>\n",
       "      <td>Yes</td>\n",
       "      <td>No</td>\n",
       "      <td>Yes</td>\n",
       "      <td>No</td>\n",
       "      <td>Yes</td>\n",
       "      <td>No</td>\n",
       "      <td>No</td>\n",
       "      <td>Often</td>\n",
       "    </tr>\n",
       "    <tr>\n",
       "      <th>3</th>\n",
       "      <td>29.60</td>\n",
       "      <td>1</td>\n",
       "      <td>0</td>\n",
       "      <td>0</td>\n",
       "      <td>0</td>\n",
       "      <td>0</td>\n",
       "      <td>0</td>\n",
       "      <td>1</td>\n",
       "      <td>0</td>\n",
       "      <td>0</td>\n",
       "      <td>...</td>\n",
       "      <td>Never</td>\n",
       "      <td>No</td>\n",
       "      <td>No</td>\n",
       "      <td>No</td>\n",
       "      <td>No</td>\n",
       "      <td>No</td>\n",
       "      <td>No</td>\n",
       "      <td>No</td>\n",
       "      <td>No</td>\n",
       "      <td>Never</td>\n",
       "    </tr>\n",
       "    <tr>\n",
       "      <th>4</th>\n",
       "      <td>26.71</td>\n",
       "      <td>1</td>\n",
       "      <td>0</td>\n",
       "      <td>0</td>\n",
       "      <td>0</td>\n",
       "      <td>0</td>\n",
       "      <td>0</td>\n",
       "      <td>1</td>\n",
       "      <td>1</td>\n",
       "      <td>0</td>\n",
       "      <td>...</td>\n",
       "      <td>Never</td>\n",
       "      <td>No</td>\n",
       "      <td>No</td>\n",
       "      <td>No</td>\n",
       "      <td>No</td>\n",
       "      <td>No</td>\n",
       "      <td>No</td>\n",
       "      <td>No</td>\n",
       "      <td>No</td>\n",
       "      <td>Never</td>\n",
       "    </tr>\n",
       "  </tbody>\n",
       "</table>\n",
       "<p>5 rows × 170 columns</p>\n",
       "</div>"
      ],
      "text/plain": [
       "     age  sex  Asian  Black  Islander  Multiracial  Native  White  hispanic  \\\n",
       "0  18.75    1      0      0         0            0       0      1         0   \n",
       "1  19.74    1      0      0         0            1       0      0         0   \n",
       "2  27.33    1      0      0         0            0       0      1         0   \n",
       "3  29.60    1      0      0         0            0       0      1         0   \n",
       "4  26.71    1      0      0         0            0       0      1         1   \n",
       "\n",
       "   Bisexual  ...            subs_can_1  subs_can_05to08  subs_can_08to11  \\\n",
       "0         0  ...                 Never               No               No   \n",
       "1         1  ...                 Never               No               No   \n",
       "2         1  ...  Multiple times daily               No              Yes   \n",
       "3         0  ...                 Never               No               No   \n",
       "4         0  ...                 Never               No               No   \n",
       "\n",
       "  subs_can_11to14  subs_can_14to17  subs_can_17to20  subs_can_20to23  \\\n",
       "0              No               No               No               No   \n",
       "1              No               No               No               No   \n",
       "2              No              Yes               No              Yes   \n",
       "3              No               No               No               No   \n",
       "4              No               No               No               No   \n",
       "\n",
       "   subs_can_23to02  subs_can_02to05  subs_can_3  \n",
       "0               No               No       Never  \n",
       "1               No               No       Never  \n",
       "2               No               No       Often  \n",
       "3               No               No       Never  \n",
       "4               No               No       Never  \n",
       "\n",
       "[5 rows x 170 columns]"
      ]
     },
     "execution_count": 57,
     "metadata": {},
     "output_type": "execute_result"
    }
   ],
   "source": [
    "predictors.head()"
   ]
  },
  {
   "cell_type": "code",
   "execution_count": 25,
   "metadata": {
    "metadata": {}
   },
   "outputs": [],
   "source": [
    "non_numeric_columns = predictors.select_dtypes(exclude=[int, float]).columns"
   ]
  },
  {
   "cell_type": "code",
   "execution_count": 26,
   "metadata": {
    "metadata": {}
   },
   "outputs": [
    {
     "data": {
      "text/plain": [
       "Index(['psqi_1', 'psqi_3'], dtype='object')"
      ]
     },
     "execution_count": 26,
     "metadata": {},
     "output_type": "execute_result"
    }
   ],
   "source": [
    "non_numeric_columns"
   ]
  },
  {
   "cell_type": "code",
   "execution_count": 22,
   "metadata": {
    "metadata": {}
   },
   "outputs": [
    {
     "ename": "ValueError",
     "evalue": "could not convert string to float: '4:00:00.000'",
     "output_type": "error",
     "traceback": [
      "\u001b[0;31m---------------------------------------------------------------------------\u001b[0m",
      "\u001b[0;31mValueError\u001b[0m                                Traceback (most recent call last)",
      "Cell \u001b[0;32mIn[22], line 1\u001b[0m\n\u001b[0;32m----> 1\u001b[0m sns\u001b[38;5;241m.\u001b[39mclustermap(\u001b[43mpredictors\u001b[49m\u001b[38;5;241;43m.\u001b[39;49m\u001b[43mcorr\u001b[49m\u001b[43m(\u001b[49m\u001b[43m)\u001b[49m, cmap\u001b[38;5;241m=\u001b[39m\u001b[38;5;124m'\u001b[39m\u001b[38;5;124mviridis\u001b[39m\u001b[38;5;124m'\u001b[39m)\n\u001b[1;32m      2\u001b[0m plt\u001b[38;5;241m.\u001b[39mshow()\n",
      "File \u001b[0;32m~/.local/lib/python3.12/site-packages/pandas/core/frame.py:11049\u001b[0m, in \u001b[0;36mDataFrame.corr\u001b[0;34m(self, method, min_periods, numeric_only)\u001b[0m\n\u001b[1;32m  11047\u001b[0m cols \u001b[38;5;241m=\u001b[39m data\u001b[38;5;241m.\u001b[39mcolumns\n\u001b[1;32m  11048\u001b[0m idx \u001b[38;5;241m=\u001b[39m cols\u001b[38;5;241m.\u001b[39mcopy()\n\u001b[0;32m> 11049\u001b[0m mat \u001b[38;5;241m=\u001b[39m \u001b[43mdata\u001b[49m\u001b[38;5;241;43m.\u001b[39;49m\u001b[43mto_numpy\u001b[49m\u001b[43m(\u001b[49m\u001b[43mdtype\u001b[49m\u001b[38;5;241;43m=\u001b[39;49m\u001b[38;5;28;43mfloat\u001b[39;49m\u001b[43m,\u001b[49m\u001b[43m \u001b[49m\u001b[43mna_value\u001b[49m\u001b[38;5;241;43m=\u001b[39;49m\u001b[43mnp\u001b[49m\u001b[38;5;241;43m.\u001b[39;49m\u001b[43mnan\u001b[49m\u001b[43m,\u001b[49m\u001b[43m \u001b[49m\u001b[43mcopy\u001b[49m\u001b[38;5;241;43m=\u001b[39;49m\u001b[38;5;28;43;01mFalse\u001b[39;49;00m\u001b[43m)\u001b[49m\n\u001b[1;32m  11051\u001b[0m \u001b[38;5;28;01mif\u001b[39;00m method \u001b[38;5;241m==\u001b[39m \u001b[38;5;124m\"\u001b[39m\u001b[38;5;124mpearson\u001b[39m\u001b[38;5;124m\"\u001b[39m:\n\u001b[1;32m  11052\u001b[0m     correl \u001b[38;5;241m=\u001b[39m libalgos\u001b[38;5;241m.\u001b[39mnancorr(mat, minp\u001b[38;5;241m=\u001b[39mmin_periods)\n",
      "File \u001b[0;32m~/.local/lib/python3.12/site-packages/pandas/core/frame.py:1993\u001b[0m, in \u001b[0;36mDataFrame.to_numpy\u001b[0;34m(self, dtype, copy, na_value)\u001b[0m\n\u001b[1;32m   1991\u001b[0m \u001b[38;5;28;01mif\u001b[39;00m dtype \u001b[38;5;129;01mis\u001b[39;00m \u001b[38;5;129;01mnot\u001b[39;00m \u001b[38;5;28;01mNone\u001b[39;00m:\n\u001b[1;32m   1992\u001b[0m     dtype \u001b[38;5;241m=\u001b[39m np\u001b[38;5;241m.\u001b[39mdtype(dtype)\n\u001b[0;32m-> 1993\u001b[0m result \u001b[38;5;241m=\u001b[39m \u001b[38;5;28;43mself\u001b[39;49m\u001b[38;5;241;43m.\u001b[39;49m\u001b[43m_mgr\u001b[49m\u001b[38;5;241;43m.\u001b[39;49m\u001b[43mas_array\u001b[49m\u001b[43m(\u001b[49m\u001b[43mdtype\u001b[49m\u001b[38;5;241;43m=\u001b[39;49m\u001b[43mdtype\u001b[49m\u001b[43m,\u001b[49m\u001b[43m \u001b[49m\u001b[43mcopy\u001b[49m\u001b[38;5;241;43m=\u001b[39;49m\u001b[43mcopy\u001b[49m\u001b[43m,\u001b[49m\u001b[43m \u001b[49m\u001b[43mna_value\u001b[49m\u001b[38;5;241;43m=\u001b[39;49m\u001b[43mna_value\u001b[49m\u001b[43m)\u001b[49m\n\u001b[1;32m   1994\u001b[0m \u001b[38;5;28;01mif\u001b[39;00m result\u001b[38;5;241m.\u001b[39mdtype \u001b[38;5;129;01mis\u001b[39;00m \u001b[38;5;129;01mnot\u001b[39;00m dtype:\n\u001b[1;32m   1995\u001b[0m     result \u001b[38;5;241m=\u001b[39m np\u001b[38;5;241m.\u001b[39masarray(result, dtype\u001b[38;5;241m=\u001b[39mdtype)\n",
      "File \u001b[0;32m~/.local/lib/python3.12/site-packages/pandas/core/internals/managers.py:1694\u001b[0m, in \u001b[0;36mBlockManager.as_array\u001b[0;34m(self, dtype, copy, na_value)\u001b[0m\n\u001b[1;32m   1692\u001b[0m         arr\u001b[38;5;241m.\u001b[39mflags\u001b[38;5;241m.\u001b[39mwriteable \u001b[38;5;241m=\u001b[39m \u001b[38;5;28;01mFalse\u001b[39;00m\n\u001b[1;32m   1693\u001b[0m \u001b[38;5;28;01melse\u001b[39;00m:\n\u001b[0;32m-> 1694\u001b[0m     arr \u001b[38;5;241m=\u001b[39m \u001b[38;5;28;43mself\u001b[39;49m\u001b[38;5;241;43m.\u001b[39;49m\u001b[43m_interleave\u001b[49m\u001b[43m(\u001b[49m\u001b[43mdtype\u001b[49m\u001b[38;5;241;43m=\u001b[39;49m\u001b[43mdtype\u001b[49m\u001b[43m,\u001b[49m\u001b[43m \u001b[49m\u001b[43mna_value\u001b[49m\u001b[38;5;241;43m=\u001b[39;49m\u001b[43mna_value\u001b[49m\u001b[43m)\u001b[49m\n\u001b[1;32m   1695\u001b[0m     \u001b[38;5;66;03m# The underlying data was copied within _interleave, so no need\u001b[39;00m\n\u001b[1;32m   1696\u001b[0m     \u001b[38;5;66;03m# to further copy if copy=True or setting na_value\u001b[39;00m\n\u001b[1;32m   1698\u001b[0m \u001b[38;5;28;01mif\u001b[39;00m na_value \u001b[38;5;129;01mis\u001b[39;00m lib\u001b[38;5;241m.\u001b[39mno_default:\n",
      "File \u001b[0;32m~/.local/lib/python3.12/site-packages/pandas/core/internals/managers.py:1753\u001b[0m, in \u001b[0;36mBlockManager._interleave\u001b[0;34m(self, dtype, na_value)\u001b[0m\n\u001b[1;32m   1751\u001b[0m     \u001b[38;5;28;01melse\u001b[39;00m:\n\u001b[1;32m   1752\u001b[0m         arr \u001b[38;5;241m=\u001b[39m blk\u001b[38;5;241m.\u001b[39mget_values(dtype)\n\u001b[0;32m-> 1753\u001b[0m     \u001b[43mresult\u001b[49m\u001b[43m[\u001b[49m\u001b[43mrl\u001b[49m\u001b[38;5;241;43m.\u001b[39;49m\u001b[43mindexer\u001b[49m\u001b[43m]\u001b[49m \u001b[38;5;241m=\u001b[39m arr\n\u001b[1;32m   1754\u001b[0m     itemmask[rl\u001b[38;5;241m.\u001b[39mindexer] \u001b[38;5;241m=\u001b[39m \u001b[38;5;241m1\u001b[39m\n\u001b[1;32m   1756\u001b[0m \u001b[38;5;28;01mif\u001b[39;00m \u001b[38;5;129;01mnot\u001b[39;00m itemmask\u001b[38;5;241m.\u001b[39mall():\n",
      "\u001b[0;31mValueError\u001b[0m: could not convert string to float: '4:00:00.000'"
     ]
    }
   ],
   "source": [
    "sns.clustermap(predictors.corr(), cmap='viridis')\n",
    "plt.show()"
   ]
  },
  {
   "cell_type": "code",
   "execution_count": null,
   "metadata": {},
   "outputs": [],
   "source": [
    "# subset_df = df[predictor_variables + [\"outcome_1\"]]"
   ]
  },
  {
   "cell_type": "code",
   "execution_count": null,
   "metadata": {},
   "outputs": [],
   "source": [
    "# standardize variables"
   ]
  },
  {
   "cell_type": "code",
   "execution_count": null,
   "metadata": {},
   "outputs": [],
   "source": [
    "# autocorrelation?"
   ]
  }
 ],
 "metadata": {
  "kernelspec": {
   "display_name": "Python 3",
   "language": "python",
   "name": "python3"
  },
  "language_info": {
   "codemirror_mode": {
    "name": "ipython",
    "version": 3
   },
   "file_extension": ".py",
   "mimetype": "text/x-python",
   "name": "python",
   "nbconvert_exporter": "python",
   "pygments_lexer": "ipython3",
   "version": "3.12.3"
  }
 },
 "nbformat": 4,
 "nbformat_minor": 2
}
