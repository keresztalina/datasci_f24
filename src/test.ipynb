{
 "cells": [
  {
   "cell_type": "code",
   "execution_count": 2,
   "metadata": {
    "metadata": {}
   },
   "outputs": [],
   "source": [
    "# import packages\n",
    "import pandas as pd\n",
    "import numpy as np\n",
    "import matplotlib.pyplot as plt\n",
    "import seaborn as sns\n",
    "import scipy\n",
    "\n",
    "from sklearn.metrics import mean_squared_error, r2_score\n",
    "from sklearn.linear_model import LinearRegression, Lasso, Ridge\n",
    "from sklearn.preprocessing import StandardScaler, PolynomialFeatures, MinMaxScaler\n",
    "from sklearn.compose import ColumnTransformer\n",
    "from sklearn.model_selection import train_test_split, GridSearchCV, RandomizedSearchCV\n",
    "from sklearn.tree import DecisionTreeRegressor\n",
    "from sklearn import tree as tr\n",
    "from sklearn.ensemble import RandomForestRegressor\n",
    "from sklearn.inspection import permutation_importance\n",
    "from xgboost import XGBRegressor"
   ]
  },
  {
   "cell_type": "code",
   "execution_count": 3,
   "metadata": {
    "metadata": {}
   },
   "outputs": [
    {
     "name": "stdout",
     "output_type": "stream",
     "text": [
      "Loaded ../data/cesd_total.csv into DataFrame: cesd_total\n",
      "Loaded ../data/gad_total.csv into DataFrame: gad_total\n",
      "Loaded ../data/inq_perceivedburden.csv into DataFrame: inq_perceivedburden\n",
      "Loaded ../data/inq_thwartedbelong.csv into DataFrame: inq_thwartedbelong\n",
      "Loaded ../data/upps_total.csv into DataFrame: upps_total\n"
     ]
    }
   ],
   "source": [
    "def load_csvs_to_dfs(filenames):\n",
    "    dataframes = []\n",
    "    for name in filenames:\n",
    "        file_path = f'../data/{name}.csv'\n",
    "        try:\n",
    "            df = pd.read_csv(file_path)\n",
    "            dataframes.append(df)\n",
    "            print(f'Loaded {file_path} into DataFrame: {name}')\n",
    "        except FileNotFoundError:\n",
    "            print(f'File {file_path} not found.')\n",
    "    return dataframes\n",
    "\n",
    "csvs = [\n",
    "        'cesd_total', \n",
    "        'gad_total',\n",
    "        'inq_perceivedburden',\n",
    "        'inq_thwartedbelong',\n",
    "        'upps_total']\n",
    "dataframes = load_csvs_to_dfs(csvs)"
   ]
  },
  {
   "cell_type": "code",
   "execution_count": 4,
   "metadata": {
    "metadata": {}
   },
   "outputs": [],
   "source": [
    "def plot_outcome(df: pd.DataFrame):\n",
    "    # Extract the last column\n",
    "    last_column_name = df.columns[-1]\n",
    "    \n",
    "    # Create the plot\n",
    "    plt.figure(figsize=(10, 6))\n",
    "    plt.hist(df[last_column_name], bins=50)\n",
    "    plt.title(f'Histogram of {last_column_name}')\n",
    "    plt.ylabel(last_column_name)\n",
    "    plt.grid(True)\n",
    "\n",
    "    plt.savefig(f'../plots/hist_{last_column_name}.png')"
   ]
  },
  {
   "cell_type": "code",
   "execution_count": 5,
   "metadata": {
    "metadata": {}
   },
   "outputs": [],
   "source": [
    "def plot_correlations(df: pd.DataFrame):\n",
    "    last_column_name = df.columns[-1]\n",
    "    sns.clustermap(df.corr(), cmap='viridis')\n",
    "    plt.savefig(f'../plots/corr_{last_column_name}.png')"
   ]
  },
  {
   "cell_type": "code",
   "execution_count": 6,
   "metadata": {
    "metadata": {}
   },
   "outputs": [],
   "source": [
    "def create_splits(df:pd.DataFrame):\n",
    "    X = df.iloc[:,:-1].values\n",
    "    y = df.iloc[:,-1].values\n",
    "\n",
    "    X_train, X_test, y_train, y_test = train_test_split(\n",
    "        X, \n",
    "        y, \n",
    "        test_size=0.15, \n",
    "        random_state=42)\n",
    "\n",
    "    X_train, X_val, y_train, y_val = train_test_split(\n",
    "        X_train, \n",
    "        y_train,\n",
    "        test_size=X_test.shape[0] / X_train.shape[0],  \n",
    "        random_state=42)\n",
    "\n",
    "    return X_train, X_val, X_test, y_train, y_val, y_test"
   ]
  },
  {
   "cell_type": "code",
   "execution_count": 7,
   "metadata": {
    "metadata": {}
   },
   "outputs": [],
   "source": [
    "def identify_variable_types(data):\n",
    "    continuous_vars = []\n",
    "    dummy_vars = []\n",
    "\n",
    "    num_columns = data.shape[1]\n",
    "    \n",
    "    for i in range(num_columns):\n",
    "        unique_values = np.unique(data[:, i])\n",
    "        if len(unique_values) == 2 and np.array_equal(unique_values, [0, 1]):\n",
    "            dummy_vars.append(i)\n",
    "        else:\n",
    "            continuous_vars.append(i)\n",
    "    \n",
    "    return continuous_vars, dummy_vars"
   ]
  },
  {
   "cell_type": "code",
   "execution_count": 8,
   "metadata": {
    "metadata": {}
   },
   "outputs": [],
   "source": [
    "def transform_X(split):\n",
    "\n",
    "    continuous_cols, dummy_cols = identify_variable_types(split)\n",
    "    preprocessor = ColumnTransformer(\n",
    "        transformers=[\n",
    "            ('num', StandardScaler(), continuous_cols),\n",
    "            ('dummy', 'passthrough', dummy_cols)  # Leave dummy variables unchanged or use StandardScaler() if needed\n",
    "        ]\n",
    "    )\n",
    "    split = preprocessor.fit_transform(split)\n",
    "\n",
    "    return split"
   ]
  },
  {
   "cell_type": "code",
   "execution_count": 9,
   "metadata": {
    "metadata": {}
   },
   "outputs": [],
   "source": [
    "def run_on_splits(func):\n",
    "    def _run_loop(*args, **kwargs):\n",
    "        for x,y,nsplit in zip([X_train, X_val, X_test],\n",
    "                              [y_train, y_val, y_test],\n",
    "                              ['train', 'val', 'test']):\n",
    "            func(*args, X=x, y=y, nsplit=nsplit, **kwargs)\n",
    "    return _run_loop"
   ]
  },
  {
   "cell_type": "code",
   "execution_count": 26,
   "metadata": {
    "metadata": {}
   },
   "outputs": [],
   "source": [
    "@run_on_splits\n",
    "def evaluate(model, X, y, nsplit, model_name, constant_value=None):\n",
    "    ''' Evaluates the performance of a model \n",
    "    Args:\n",
    "        model (sklearn.Estimator): fitted sklearn estimator\n",
    "        X (np.array): predictors\n",
    "        y (np.array): true outcome\n",
    "        nsplit (str): name of the split\n",
    "        model_name (str): string id of the model\n",
    "        constant_value (int or None): relevant if the model predicts a constant\n",
    "    '''\n",
    "    if constant_value is not None:\n",
    "        preds = np.array([constant_value] * y.shape[0])\n",
    "    else:\n",
    "        preds = model.predict(X)\n",
    "    r2 = r2_score(y, preds)\n",
    "    performance = np.sqrt(mean_squared_error(y, preds))\n",
    "    model_performances.append({'model': model_name,\n",
    "                         'split': nsplit,\n",
    "                         'rmse': round(performance, 4),\n",
    "                         'r2': round(r2, 4)})"
   ]
  },
  {
   "cell_type": "code",
   "execution_count": 28,
   "metadata": {
    "metadata": {}
   },
   "outputs": [],
   "source": [
    "def loop_through_dfs(list_of_dfs):\n",
    "    for idx, df in enumerate(list_of_dfs):\n",
    "        \n",
    "        # plot outcome variable\n",
    "        #plot_outcome(df)\n",
    "\n",
    "        # plot correlations\n",
    "        #plot_correlations(df)\n",
    "\n",
    "        # create splits\n",
    "        X_train, X_val, X_test, y_train, y_val, y_test = create_splits(df)\n",
    "\n",
    "        # transform X\n",
    "        X_train = transform_X(X_train)\n",
    "        X_val = transform_X(X_val)\n",
    "        X_test = transform_X(X_test)\n",
    "        \n",
    "        model_performances = []\n",
    "\n",
    "        # run null model\n",
    "        evaluate(model=None, model_name='dummy', constant_value=y_train.mean())\n",
    "\n",
    "        # run plain linear regression\n",
    "        reg = LinearRegression().fit(X_train, y_train)\n",
    "        evaluate(model=reg, model_name='linear')\n",
    "\n",
    "        # run ridge and lasso versions\n",
    "        models = {} # storing fitted models in the next chunk\n",
    "        models['linear-0.0'] = reg\n",
    "\n",
    "        for alpha in [0.01, 0.1, 0.2, 0.5, 1.0, 20.0, 10.0, 100.0, 1000.0]:\n",
    "            for est in [Lasso, Ridge]:\n",
    "                if est == Lasso:\n",
    "                    id = 'lasso'\n",
    "                else:\n",
    "                    id = 'ridge'\n",
    "                reg = est(alpha=alpha).fit(X_train, y_train)\n",
    "                models[f'{id}-{alpha}'] = reg\n",
    "                evaluate(model=reg, model_name=f'{id}-alpha-{alpha}')\n",
    "\n",
    "        print(model_performances)\n"
   ]
  },
  {
   "cell_type": "code",
   "execution_count": 29,
   "metadata": {
    "metadata": {}
   },
   "outputs": [
    {
     "ename": "NameError",
     "evalue": "name 'X_train' is not defined",
     "output_type": "error",
     "traceback": [
      "\u001b[0;31m---------------------------------------------------------------------------\u001b[0m",
      "\u001b[0;31mNameError\u001b[0m                                 Traceback (most recent call last)",
      "Cell \u001b[0;32mIn[29], line 1\u001b[0m\n\u001b[0;32m----> 1\u001b[0m \u001b[43mloop_through_dfs\u001b[49m\u001b[43m(\u001b[49m\u001b[43mdataframes\u001b[49m\u001b[43m)\u001b[49m\n",
      "Cell \u001b[0;32mIn[28], line 21\u001b[0m, in \u001b[0;36mloop_through_dfs\u001b[0;34m(list_of_dfs)\u001b[0m\n\u001b[1;32m     18\u001b[0m model_performances \u001b[38;5;241m=\u001b[39m []\n\u001b[1;32m     20\u001b[0m \u001b[38;5;66;03m# run null model\u001b[39;00m\n\u001b[0;32m---> 21\u001b[0m \u001b[43mevaluate\u001b[49m\u001b[43m(\u001b[49m\u001b[43mmodel\u001b[49m\u001b[38;5;241;43m=\u001b[39;49m\u001b[38;5;28;43;01mNone\u001b[39;49;00m\u001b[43m,\u001b[49m\u001b[43m \u001b[49m\u001b[43mmodel_name\u001b[49m\u001b[38;5;241;43m=\u001b[39;49m\u001b[38;5;124;43m'\u001b[39;49m\u001b[38;5;124;43mdummy\u001b[39;49m\u001b[38;5;124;43m'\u001b[39;49m\u001b[43m,\u001b[49m\u001b[43m \u001b[49m\u001b[43mconstant_value\u001b[49m\u001b[38;5;241;43m=\u001b[39;49m\u001b[43my_train\u001b[49m\u001b[38;5;241;43m.\u001b[39;49m\u001b[43mmean\u001b[49m\u001b[43m(\u001b[49m\u001b[43m)\u001b[49m\u001b[43m)\u001b[49m\n\u001b[1;32m     23\u001b[0m \u001b[38;5;66;03m# run plain linear regression\u001b[39;00m\n\u001b[1;32m     24\u001b[0m reg \u001b[38;5;241m=\u001b[39m LinearRegression()\u001b[38;5;241m.\u001b[39mfit(X_train, y_train)\n",
      "Cell \u001b[0;32mIn[9], line 3\u001b[0m, in \u001b[0;36mrun_on_splits.<locals>._run_loop\u001b[0;34m(*args, **kwargs)\u001b[0m\n\u001b[1;32m      2\u001b[0m \u001b[38;5;28;01mdef\u001b[39;00m \u001b[38;5;21m_run_loop\u001b[39m(\u001b[38;5;241m*\u001b[39margs, \u001b[38;5;241m*\u001b[39m\u001b[38;5;241m*\u001b[39mkwargs):\n\u001b[0;32m----> 3\u001b[0m     \u001b[38;5;28;01mfor\u001b[39;00m x,y,nsplit \u001b[38;5;129;01min\u001b[39;00m \u001b[38;5;28mzip\u001b[39m([\u001b[43mX_train\u001b[49m, X_val, X_test],\n\u001b[1;32m      4\u001b[0m                           [y_train, y_val, y_test],\n\u001b[1;32m      5\u001b[0m                           [\u001b[38;5;124m'\u001b[39m\u001b[38;5;124mtrain\u001b[39m\u001b[38;5;124m'\u001b[39m, \u001b[38;5;124m'\u001b[39m\u001b[38;5;124mval\u001b[39m\u001b[38;5;124m'\u001b[39m, \u001b[38;5;124m'\u001b[39m\u001b[38;5;124mtest\u001b[39m\u001b[38;5;124m'\u001b[39m]):\n\u001b[1;32m      6\u001b[0m         func(\u001b[38;5;241m*\u001b[39margs, X\u001b[38;5;241m=\u001b[39mx, y\u001b[38;5;241m=\u001b[39my, nsplit\u001b[38;5;241m=\u001b[39mnsplit, \u001b[38;5;241m*\u001b[39m\u001b[38;5;241m*\u001b[39mkwargs)\n",
      "\u001b[0;31mNameError\u001b[0m: name 'X_train' is not defined"
     ]
    }
   ],
   "source": [
    "loop_through_dfs(dataframes)"
   ]
  }
 ],
 "metadata": {
  "kernelspec": {
   "display_name": "Python 3",
   "language": "python",
   "name": "python3"
  },
  "language_info": {
   "codemirror_mode": {
    "name": "ipython",
    "version": 3
   },
   "file_extension": ".py",
   "mimetype": "text/x-python",
   "name": "python",
   "nbconvert_exporter": "python",
   "pygments_lexer": "ipython3",
   "version": "3.12.3"
  }
 },
 "nbformat": 4,
 "nbformat_minor": 2
}
